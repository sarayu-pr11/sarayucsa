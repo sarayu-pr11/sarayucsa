{
 "cells": [
  {
   "cell_type": "markdown",
   "metadata": {},
   "source": [
    "# Code.org Key Takeaways\n",
    "> My key code.org takeaways\n",
    "- toc: true\n",
    "- layout: post\n",
    "- categories: [markdown]\n",
    "- comments: true"
   ]
  },
  {
   "cell_type": "markdown",
   "metadata": {},
   "source": []
  },
  {
   "cell_type": "markdown",
   "metadata": {},
   "source": [
    "## Key Takeaways:\n",
    "- writing headers\n",
    "public class Main() {}\n",
    "- creating sub classes\n",
    "    Main main = new Main();\n",
    "- writing methods\n",
    "    public void method() {}\n",
    "- extending methods\n",
    "    method();\n",
    "- loops \n",
    "    while(true)\n",
    "    if(true)\n",
    "\n",
    "Creating Objects\n",
    "- in java we create objects in order to call non-static functions that are not inside the main method we're in\n",
    "- as long as it is inside the class we're in, we can provide the name and extend the object\n",
    "- instance of a class\n",
    "    - types of food within a meal\n",
    "\n",
    "Extending Objects\n",
    "- public class Food extends vegetables {}\n",
    "\n",
    "\n",
    "### Mainly from this unit in code.org, I learned the basics of java. I knew virtually nothing beforehand, so the simple tasks with the painter served as a great introductory for this programming language."
   ]
  }
 ],
 "metadata": {
  "kernelspec": {
   "display_name": "Python 3.8.10 64-bit",
   "language": "python",
   "name": "python3"
  },
  "language_info": {
   "name": "python",
   "version": "3.8.10"
  },
  "orig_nbformat": 4,
  "vscode": {
   "interpreter": {
    "hash": "916dbcbb3f70747c44a77c7bcd40155683ae19c65e1c03b4aa3499c5328201f1"
   }
  }
 },
 "nbformat": 4,
 "nbformat_minor": 2
}
