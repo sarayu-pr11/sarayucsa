{
 "cells": [
  {
   "attachments": {},
   "cell_type": "markdown",
   "metadata": {},
   "source": [
    "# Test AI\n",
    "> Beginning of our AI Journey\n",
    "- toc: true\n",
    "- categories: [jupyter]\n",
    "- comments: true"
   ]
  },
  {
   "attachments": {},
   "cell_type": "markdown",
   "metadata": {},
   "source": [
    "## Process\n",
    "Using Python and machine learning to make weather predictions is a three-step process. \n",
    "1. Download Data\n",
    "2. Read in and clean the data\n",
    "3. Train a machine learning model to make historical and future predictions"
   ]
  },
  {
   "attachments": {},
   "cell_type": "markdown",
   "metadata": {},
   "source": [
    "### Data\n",
    "We got our from the NOAA, a U.S. government agency that forecasts weather. We downloaded data from New York because the weather has more variation than San Diego. The data was "
   ]
  },
  {
   "attachments": {},
   "cell_type": "markdown",
   "metadata": {},
   "source": [
    "### Cleaning Data\n",
    "The first thing that we need to do when using data to teach an AI is to clean it. The data becomes useless if there is extraneous information to confuse the program. Additionally, if any of the columns have missing values, most machine learning models will not work with them. Our job is to first make a program that will remove those."
   ]
  },
  {
   "cell_type": "code",
   "execution_count": null,
   "metadata": {},
   "outputs": [],
   "source": [
    "null_pct = weather.apply(pd.isnull).sum()/weather.shape[0]\n",
    "null_pct"
   ]
  },
  {
   "attachments": {},
   "cell_type": "markdown",
   "metadata": {},
   "source": [
    "First we're going to find the number of null values in each column. It will find out how many of the values are actually missing. By dividing the values by the total number of rows to get the percentage of null values. "
   ]
  },
  {
   "cell_type": "code",
   "execution_count": null,
   "metadata": {},
   "outputs": [],
   "source": [
    "valid_columns = weather.columns[null_pct < 0.5]\n",
    "valid_columns"
   ]
  },
  {
   "attachments": {},
   "cell_type": "markdown",
   "metadata": {},
   "source": [
    "This code snippet makes it so that we only keep the columns where the percentage of no values is less than 5%. All the columns that are outputted are the ones we will keep. "
   ]
  }
 ],
 "metadata": {
  "kernelspec": {
   "display_name": "Python 3",
   "language": "python",
   "name": "python3"
  },
  "language_info": {
   "name": "python",
   "version": "3.10.6"
  },
  "orig_nbformat": 4
 },
 "nbformat": 4,
 "nbformat_minor": 2
}
