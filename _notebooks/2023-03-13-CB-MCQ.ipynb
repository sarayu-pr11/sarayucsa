{
 "cells": [
  {
   "attachments": {},
   "cell_type": "markdown",
   "metadata": {},
   "source": [
    "# CB MCQ 2015\n",
    "> 2015 MCQ\n",
    "- toc: false\n",
    "- comments: false\n",
    "\n",
    "\n",
    "![image](https://github.com/sarayu-pr11/sarayucsa/blob/master/images/Screenshot%202023-03-13%20083651.png?raw=true)\n",
    "\n",
    "1. What method with positive int parameter... (17)\n",
    "\n",
    "I chose E (No value is returned because of an infinite loop) but the answer is D (The for loop starts at 1 and increments by 2 for each iteration until it is greater than num. The values of loop that are being added together are 1, 3, 5, ..., num. When loop has the value num + 2, the loop stops preventing num + 2 from being included in the sum, since it is not less than or equal to num.)\n",
    "\n",
    "2. Methods start and change it with aliases... (26)\n",
    "\n",
    "I chose A but the answer is E because Parameters are passed using call by value. Call by value initializes the formal parameters (arr, val, word) with copies of the actual parameters (nums, value, name). When the parameter is a reference variable, the method receives a reference and can mutate the object being referenced but cannot alter the reference itself. Passing an object reference as a parameter will result in the formal parameter and the actual parameter being aliases. \n",
    "\n",
    "3. Sorting 1D int array statement count... (28)\n",
    "\n",
    "I chose C but the answer is B The outer loop iterates one fewer time than the length of the array. The inner loop is dependent on the outer loop, starting at the value of j + 1 and iterating to the end of the array."
   ]
  }
 ],
 "metadata": {
  "kernelspec": {
   "display_name": "Java",
   "language": "java",
   "name": "java"
  },
  "language_info": {
   "name": "java"
  },
  "orig_nbformat": 4
 },
 "nbformat": 4,
 "nbformat_minor": 2
}
