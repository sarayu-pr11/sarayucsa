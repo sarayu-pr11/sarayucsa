{
 "cells": [
  {
   "cell_type": "markdown",
   "metadata": {},
   "source": [
    "# ArrayLists\n",
    "> Array List College Board: unit 7\n",
    "- comments: false\n",
    "- toc: true"
   ]
  },
  {
   "cell_type": "markdown",
   "metadata": {},
   "source": [
    "## Introduction to ArrayLists\n",
    "- reference type\n",
    "    - mutable and contains object references\n",
    "- array cannot be modified while ArrayLists can\n",
    "- Syntax: ArrayList<String> = cars = new ArrayList<String>();\n",
    "\n",
    "### Traversing\n",
    "- using a for loop, can use for while loop"
   ]
  },
  {
   "cell_type": "code",
   "execution_count": null,
   "metadata": {},
   "outputs": [],
   "source": [
    "int sum = 0;\n",
    "for (int i = 0; i < roster.size(); i++) {\n",
    "\tsum = sum + roster.get(i).length();\n",
    "}\n",
    "System.out.println(sum);\n",
    "\n",
    "nt sum = 0;\n",
    "int i = 0;\n",
    "while (i < roster.size() ) {\n",
    "\tsum = sum + roster.get(i).length();\n",
    "\ti++\n",
    "}\n",
    "System.out.println(sum);\n"
   ]
  },
  {
   "cell_type": "markdown",
   "metadata": {},
   "source": [
    "### Developing Algorithms with ArrayLists\n"
   ]
  },
  {
   "cell_type": "code",
   "execution_count": null,
   "metadata": {},
   "outputs": [],
   "source": [
    "private double findMax (ArrayList<Double> values) {\n",
    "\tdouble max = values.get(0);\n",
    "\tfor (int i= 1; i< values.size(); i++) {\n",
    "\t\tif (values.get(i) >max) {\n",
    "\t\t\tmax = values.get(i);\n",
    "\t\t}\n",
    "\t}\n",
    "System.out.println(max);\n",
    "}\n"
   ]
  },
  {
   "cell_type": "markdown",
   "metadata": {},
   "source": [
    "### Searching\n",
    "- the locating of data within linear structure\n",
    "- searching a structure includes control structures\n",
    "- for loops are optimal because each elements needs to be specified sequentially\n",
    "\n",
    "### Sorting\n",
    "- sorting sorts the ArrayList in a specified order\n",
    "    - ascending \n",
    "    - descending\n",
    "\n"
   ]
  },
  {
   "cell_type": "code",
   "execution_count": null,
   "metadata": {},
   "outputs": [],
   "source": [
    "Collections.sort({list name}); // sort in ascending order\n",
    "Collections.sort(ArrayList, Collections.reverseOrder()); // sort in descending order\n"
   ]
  },
  {
   "cell_type": "markdown",
   "metadata": {},
   "source": [
    "### HW\n",
    "- FRQ 2019 AP CSA FRQ 3\n",
    "- Create an ArrayList that includes 2 of the 4 factors listed below.\n",
    "    - Find and display the hashCode of an Arraylist before and after being sorted\n",
    "    - Return \"ascending\" if the list is sorted in ascending order, return \"descending\" if it is descending, and return \"neither\" if neither\n",
    "    - Replace 3 elements in an ArrayList with another ArrayList and reverse the order of the new list"
   ]
  }
 ],
 "metadata": {
  "kernelspec": {
   "display_name": "Java",
   "language": "java",
   "name": "java"
  },
  "language_info": {
   "name": "java"
  },
  "orig_nbformat": 4
 },
 "nbformat": 4,
 "nbformat_minor": 2
}
