{
 "cells": [
  {
   "cell_type": "markdown",
   "metadata": {},
   "source": [
    "# Using Ojbects\n"
   ]
  },
  {
   "cell_type": "markdown",
   "metadata": {},
   "source": [
    "## What is Object Oriented Programming\n",
    "- organizes software around objects\n",
    "\n",
    "### Objects, CLasses, and Methods\n",
    "- classes are blueprints\n",
    "- methods are to reuse code\n",
    "- objects inherit class attributes\n",
    "- methods can be stored\n",
    "- objects are initialized by calling the class\n",
    "\n",
    "### Method Declaration\n",
    "- 6 ways\n",
    "- access modifier\n",
    "- return type\n",
    "- method name\n",
    "- parameter list\n",
    "- exception list\n",
    "- method body\n",
    "\n",
    "### Calling Methods\n",
    "- allows to reuse code\n",
    "- organization\n",
    "- optimization\n",
    "- when making objects on main, it will be static\n",
    "- do main. so that you can use the methods"
   ]
  },
  {
   "cell_type": "markdown",
   "metadata": {},
   "source": [
    "# Homework\n",
    "- Objects work"
   ]
  }
 ],
 "metadata": {
  "kernelspec": {
   "display_name": "Java",
   "language": "java",
   "name": "java"
  },
  "language_info": {
   "name": "java"
  },
  "orig_nbformat": 4
 },
 "nbformat": 4,
 "nbformat_minor": 2
}
