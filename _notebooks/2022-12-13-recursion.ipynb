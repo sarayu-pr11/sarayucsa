{
 "cells": [
  {
   "attachments": {},
   "cell_type": "markdown",
   "metadata": {},
   "source": [
    "# Recursion\n",
    "> CB Unit 10\n",
    "- toc: true\n",
    "- comments: false"
   ]
  },
  {
   "attachments": {},
   "cell_type": "markdown",
   "metadata": {},
   "source": [
    "## Vocab\n",
    "- Big O notation for Hash map, Binary Search, Single loop, Nested Loop\n",
    "    - Big O notation describes the set of all algorithms that run no worse than a certain speed, no better than a certain speed, and at a certain speed\n",
    "    - Shows the number of operations it will perform\n",
    "## Intro to Recursion\n",
    "- a method that calls itself\n",
    "- contains at least one base case and one recursive call\n",
    "- can be replaced with an iterative and give the same result\n",
    "- can traverse string, array, and arrayList objects\n"
   ]
  },
  {
   "cell_type": "code",
   "execution_count": 2,
   "metadata": {
    "vscode": {
     "languageId": "java"
    }
   },
   "outputs": [],
   "source": [
    "public static void example(int n) {\n",
    "    if (n > 0)\n",
    "        example (n-1);\n",
    "}"
   ]
  },
  {
   "cell_type": "code",
   "execution_count": 1,
   "metadata": {
    "vscode": {
     "languageId": "java"
    }
   },
   "outputs": [
    {
     "name": "stdout",
     "output_type": "stream",
     "text": [
      "4\n",
      "3\n",
      "2\n",
      "2\n",
      "3\n",
      "4\n"
     ]
    }
   ],
   "source": [
    "public static void simplerRecur(int n) {\n",
    "    System.out.println(n);\n",
    "    \n",
    "    if (n > 2)\n",
    "        simplerRecur(n-1); \n",
    "    System.out.println(n);\n",
    "}\n",
    "simplerRecur(4);"
   ]
  },
  {
   "attachments": {},
   "cell_type": "markdown",
   "metadata": {},
   "source": [
    "## Merge Sort\n",
    "- can be used to sort ArrayLists\n",
    "- uses a divide and conquer algorithm to sort\n",
    "- divides the array into halves and then calls itself\n",
    "- can merge values into one sorted array\n",
    "- ways to think about it\n",
    "    - first the mergeSort function splits the arrayList into half and then takes the left side of the list. it then calls merge sort again and halves the list, and does this two more times. Eventually, it is just left with 5 after sorting using all of mergeSort(left)\n",
    "\n",
    "## Recursion Tree\n",
    "- a method for visualizing each recursive case until the base case is reached\n",
    "- recursive blocks call themselves\n",
    "- to finish, must need a special case"
   ]
  }
 ],
 "metadata": {
  "kernelspec": {
   "display_name": "Java",
   "language": "java",
   "name": "java"
  },
  "language_info": {
   "codemirror_mode": "java",
   "file_extension": ".jshell",
   "mimetype": "text/x-java-source",
   "name": "Java",
   "pygments_lexer": "java",
   "version": "11.0.16+8-post-Ubuntu-0ubuntu120.04"
  },
  "orig_nbformat": 4
 },
 "nbformat": 4,
 "nbformat_minor": 2
}
