{
 "cells": [
  {
   "cell_type": "markdown",
   "metadata": {},
   "source": [
    "# Array Lesson\n",
    "> Unit 06 Array\n",
    "- toc: true\n",
    "- comments: false "
   ]
  },
  {
   "cell_type": "markdown",
   "metadata": {},
   "source": [
    "# Arrays\n",
    "- type of data structure that contains a collection of data\n",
    "- primitive or referenced\n",
    "- int [] array = new int[10];\n",
    "- int[] array2 = {10, 9, 8, 7, 6};\n",
    "- int [] numbers = new[10]\n",
    "- enhanced for loops: variables are assigned to values\n",
    "- basic for loop = index variable loops are assigned as 0 and 1\n",
    "\n",
    "# HW\n"
   ]
  },
  {
   "cell_type": "code",
   "execution_count": 1,
   "metadata": {
    "vscode": {
     "languageId": "java"
    }
   },
   "outputs": [
    {
     "name": "stdout",
     "output_type": "stream",
     "text": [
      "Swapping first and last: \n",
      "8\n",
      "2\n",
      "4\n",
      "6\n",
      "0\n",
      "Replace all with zero: \n",
      "0\n",
      "0\n",
      "0\n",
      "0\n",
      "0\n"
     ]
    }
   ],
   "source": [
    "public class Array {\n",
    "    private int[] values = {0, 2, 4, 6, 8};\n",
    "\n",
    "    public void printValues(){\n",
    "        for(int i = 0; i < values.length; i++){\n",
    "            System.out.println(values[i]);\n",
    "        }\n",
    "    }\n",
    "\n",
    "    public void swapValues(){\n",
    "        int lastElement = values[values.length-1];\n",
    "        values[values.length-1] = values[0];\n",
    "        values[0] = lastElement;\n",
    "    }\n",
    "\n",
    "    public void replaceZero(){\n",
    "        for(int i = 0; i < values.length; i++){\n",
    "            values[i] = 0;\n",
    "        }\n",
    "    }\n",
    "\n",
    "    public static void main(String[] args){\n",
    "        \n",
    "        System.out.println(\"Swapping first and last: \");\n",
    "        Array swapValues = new Array();\n",
    "        swapValues.swapValues();\n",
    "        swapValues.printValues();\n",
    "\n",
    "        System.out.println(\"Replace all with zero: \");\n",
    "        Array replaceZero = new Array();\n",
    "        swapValues.replaceZero();\n",
    "        swapValues.printValues();\n",
    "    }\n",
    "}\n",
    "\n",
    "Array.main(null);"
   ]
  }
 ],
 "metadata": {
  "kernelspec": {
   "display_name": "Java",
   "language": "java",
   "name": "java"
  },
  "language_info": {
   "codemirror_mode": "java",
   "file_extension": ".jshell",
   "mimetype": "text/x-java-source",
   "name": "Java",
   "pygments_lexer": "java",
   "version": "11.0.16+8-post-Ubuntu-0ubuntu120.04"
  },
  "orig_nbformat": 4
 },
 "nbformat": 4,
 "nbformat_minor": 2
}
