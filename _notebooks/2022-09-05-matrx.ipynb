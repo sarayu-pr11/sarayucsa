{
 "cells": [
  {
   "cell_type": "markdown",
   "metadata": {},
   "source": [
    "# Matrix Multiplication\n",
    "> This is my matrix multiplier using objects\n",
    "- toc: true\n",
    "- categories: [jupyter]"
   ]
  },
  {
   "cell_type": "markdown",
   "metadata": {},
   "source": []
  },
  {
   "cell_type": "code",
   "execution_count": 1,
   "metadata": {
    "vscode": {
     "languageId": "java"
    }
   },
   "outputs": [
    {
     "name": "stdout",
     "output_type": "stream",
     "text": [
      "Enter Rows and Cols of First Matrix\n"
     ]
    }
   ],
   "source": [
    "import java.util.Scanner;\n",
    " \n",
    "public class MatrixMultiplication {\n",
    " \n",
    "    public static void main(String[] args) {\n",
    "        int a, j, k, rowF, rowS, colF, colS;\n",
    "        int first[][] = new int[10][10];\n",
    "        int second[][] = new int[10][10];\n",
    "        int product[][] = new int[10][10];\n",
    " \n",
    "        Scanner scanner = new Scanner(System.in);\n",
    " \n",
    "        System.out.println(\"Enter Rows and Cols of First Matrix\");\n",
    "        rowF = scanner.nextInt();\n",
    "        colF = scanner.nextInt();\n",
    " \n",
    "        System.out.println(\"Enter Elements of First Matrix\");\n",
    " \n",
    "        // Input first matrix from user\n",
    "        for (a = 0; a < rowF; a++) {\n",
    "            for (j = 0; j < colF; j++) {\n",
    "                first[a][j] = scanner.nextInt();\n",
    "            }\n",
    "        }\n",
    " \n",
    "        System.out.println(\"Enter Rows and Cols of Second Matrix\");\n",
    "        rowS = scanner.nextInt();\n",
    "        colS = scanner.nextInt();\n",
    " \n",
    "        System.out.println(\"Enter Elements of Second Matrix\");\n",
    " \n",
    "        // Input second matrix from user\n",
    "        for (a = 0; a < rowS; a++) {\n",
    "            for (j = 0; j < colS; j++) {\n",
    "                second[a][j] = scanner.nextInt();\n",
    "            }\n",
    "        }\n",
    " \n",
    "        // Multiplying two matrices\n",
    "        for (a = 0; a < rowF; a++) {\n",
    "            for (j = 0; j < colF; j++) {\n",
    "                for (k = 0; k < colS; k++) {\n",
    "                    product[a][j] += first[a][k] * second[k][j];\n",
    "                }\n",
    "            }\n",
    "        }\n",
    " \n",
    "        // Printing Product Matrix\n",
    "        System.out.println(\"Product Matrix\");\n",
    "        for (a = 0; a < rowF; a++) {\n",
    "            for (j = 0; j < colS; j++) {\n",
    "                System.out.print(product[a][j] + \" \");\n",
    "            }\n",
    "            System.out.print(\"\\n\");\n",
    "        }\n",
    "    }\n",
    "}\n",
    "\n",
    "MatrixMultiplication.main(null)"
   ]
  }
 ],
 "metadata": {
  "kernelspec": {
   "display_name": "Java",
   "language": "java",
   "name": "java"
  },
  "language_info": {
   "codemirror_mode": "java",
   "file_extension": ".jshell",
   "mimetype": "text/x-java-source",
   "name": "Java",
   "pygments_lexer": "java",
   "version": "11.0.16+8-post-Ubuntu-0ubuntu120.04"
  },
  "orig_nbformat": 4
 },
 "nbformat": 4,
 "nbformat_minor": 2
}
