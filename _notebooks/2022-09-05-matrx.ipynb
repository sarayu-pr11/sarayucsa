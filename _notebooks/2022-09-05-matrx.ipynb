{
 "cells": [
  {
   "cell_type": "code",
   "execution_count": 4,
   "metadata": {
    "vscode": {
     "languageId": "java"
    }
   },
   "outputs": [
    {
     "name": "stdout",
     "output_type": "stream",
     "text": [
      "Enter Rows and Cols of First Matrix\n",
      "Enter Elements of First Matrix\n",
      "Enter Rows and Cols of Second Matrix\n",
      "Enter Elements of Second Matrix\n",
      "Product Matrix\n",
      "8 12 \n",
      "11 16 \n"
     ]
    }
   ],
   "source": [
    "import java.util.Scanner;\n",
    " \n",
    "public class MatrixMultiplication {\n",
    " \n",
    "    public static void main(String[] args) {\n",
    "        int i, j, k, rowF, rowS, colF, colS;\n",
    "        int first[][] = new int[10][10];\n",
    "        int second[][] = new int[10][10];\n",
    "        int product[][] = new int[10][10];\n",
    " \n",
    "        Scanner scanner = new Scanner(System.in);\n",
    " \n",
    "        System.out.println(\"Enter Rows and Cols of First Matrix\");\n",
    "        rowF = scanner.nextInt();\n",
    "        colF = scanner.nextInt();\n",
    " \n",
    "        System.out.println(\"Enter Elements of First Matrix\");\n",
    " \n",
    "        // Input first matrix from user\n",
    "        for (i = 0; i < rowF; i++) {\n",
    "            for (j = 0; j < colF; j++) {\n",
    "                first[i][j] = scanner.nextInt();\n",
    "            }\n",
    "        }\n",
    " \n",
    "        System.out.println(\"Enter Rows and Cols of Second Matrix\");\n",
    "        rowS = scanner.nextInt();\n",
    "        colS = scanner.nextInt();\n",
    " \n",
    "        System.out.println(\"Enter Elements of Second Matrix\");\n",
    " \n",
    "        // Input second matrix from user\n",
    "        for (i = 0; i < rowS; i++) {\n",
    "            for (j = 0; j < colS; j++) {\n",
    "                second[i][j] = scanner.nextInt();\n",
    "            }\n",
    "        }\n",
    " \n",
    "        // Multiplying two matrices\n",
    "        for (i = 0; i < rowF; i++) {\n",
    "            for (j = 0; j < colF; j++) {\n",
    "                for (k = 0; k < colS; k++) {\n",
    "                    product[i][j] += first[i][k] * second[k][j];\n",
    "                }\n",
    "            }\n",
    "        }\n",
    " \n",
    "        // Printing Product Matrix\n",
    "        System.out.println(\"Product Matrix\");\n",
    "        for (i = 0; i < rowF; i++) {\n",
    "            for (j = 0; j < colS; j++) {\n",
    "                System.out.print(product[i][j] + \" \");\n",
    "            }\n",
    "            System.out.print(\"\\n\");\n",
    "        }\n",
    "    }\n",
    "}\n",
    "\n",
    "MatrixMultiplication.main(null)"
   ]
  }
 ],
 "metadata": {
  "kernelspec": {
   "display_name": "Java",
   "language": "java",
   "name": "java"
  },
  "language_info": {
   "codemirror_mode": "java",
   "file_extension": ".jshell",
   "mimetype": "text/x-java-source",
   "name": "Java",
   "pygments_lexer": "java",
   "version": "11.0.16+8-post-Ubuntu-0ubuntu120.04"
  },
  "orig_nbformat": 4
 },
 "nbformat": 4,
 "nbformat_minor": 2
}
