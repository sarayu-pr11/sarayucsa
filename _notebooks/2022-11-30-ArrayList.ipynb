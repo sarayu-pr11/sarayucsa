{
 "cells": [
  {
   "cell_type": "markdown",
   "metadata": {},
   "source": [
    "# ArrayLists\n",
    "> Array List College Board: unit 7\n",
    "- comments: false\n",
    "- toc: true"
   ]
  },
  {
   "attachments": {},
   "cell_type": "markdown",
   "metadata": {},
   "source": [
    "## Introduction to ArrayLists\n",
    "- reference type\n",
    "    - mutable and contains object references\n",
    "- array cannot be modified while ArrayLists can\n",
    "- Syntax: ArrayListString> = cars = new ArrayListString>();\n",
    "\n",
    "### Traversing\n",
    "- using a for loop, can use for while loop"
   ]
  },
  {
   "cell_type": "markdown",
   "metadata": {},
   "source": [
    "### Developing Algorithms with ArrayLists\n"
   ]
  },
  {
   "cell_type": "markdown",
   "metadata": {},
   "source": [
    "### Searching\n",
    "- the locating of data within linear structure\n",
    "- searching a structure includes control structures\n",
    "- for loops are optimal because each elements needs to be specified sequentially\n",
    "\n",
    "### Sorting\n",
    "- sorting sorts the ArrayList in a specified order\n",
    "    - ascending \n",
    "    - descending\n",
    "\n"
   ]
  },
  {
   "cell_type": "markdown",
   "metadata": {},
   "source": [
    "### HW\n",
    "- Create an ArrayList that includes 2 of the 4 factors listed below.\n",
    "    - Find and display the hashCode of an Arraylist before and after being sorted\n",
    "    - Return \"ascending\" if the list is sorted in ascending order, return \"descending\" if it is descending, and return \"neither\" if neither\n",
    "    - Replace 3 elements in an ArrayList with another ArrayList and reverse the order of the new list\n",
    "    "
   ]
  },
  {
   "cell_type": "code",
   "execution_count": 2,
   "metadata": {},
   "outputs": [
    {
     "name": "stdout",
     "output_type": "stream",
     "text": [
      "Original: \n",
      "[red, orange, yellow, green, blue, purple]\n",
      "After Swapping: \n",
      "[purple, orange, yellow, green, blue, red]\n"
     ]
    }
   ],
   "source": [
    "import java.util.*;\n",
    "import java.util.Collections;\n",
    "\n",
    "public class Arrays {\n",
    "    public static void main(String a []) {\n",
    "        ArrayList<String> ArrList = new ArrayList<String>();\n",
    "\n",
    "        ArrList.add(\"red\");\n",
    "        ArrList.add(\"orange\");\n",
    "        ArrList.add(\"yellow\");\n",
    "        ArrList.add(\"green\");\n",
    "        ArrList.add(\"blue\");\n",
    "        ArrList.add(\"purple\");\n",
    "\n",
    "        System.out.println(\"Original: \");\n",
    "        System.out.println(ArrList);\n",
    "\n",
    "        Collections.swap(ArrList, 0, 5);\n",
    "\n",
    "        System.out.println(\"After Swapping: \");\n",
    "        System.out.println(ArrList);\n",
    "    }\n",
    "}\n",
    "\n",
    "Arrays.main(null);"
   ]
  },
  {
   "cell_type": "code",
   "execution_count": null,
   "metadata": {},
   "outputs": [],
   "source": [
    "ArrayList<String> planets = new ArrayList<>();\n",
    "planets.add(\"mercury\");\n",
    "planets.add(\"venus\");\n",
    "planets.add(\"earth\");\n",
    "planets.add(\"mars\");\n",
    "planets.add(\"jupiter\");\n",
    "planets.add(\"saturn\");\n",
    "planets.add(\"uranus\");\n",
    "planets.add(\"neptune\");\n",
    "planets.add(\"pluto\");\n",
    "\n",
    "System.out.println(\"Unsorted hash code: \" + planets.hashcode());\n",
    "Collections.sort(planets);\n",
    "System.out.println(\"Sorted hash code: \" + planes.hashcode());"
   ]
  }
 ],
 "metadata": {
  "kernelspec": {
   "display_name": "Java",
   "language": "java",
   "name": "java"
  },
  "language_info": {
   "codemirror_mode": "java",
   "file_extension": ".jshell",
   "mimetype": "text/x-java-source",
   "name": "java",
   "pygments_lexer": "java",
   "version": "11.0.16+8-post-Ubuntu-0ubuntu120.04"
  },
  "orig_nbformat": 4
 },
 "nbformat": 4,
 "nbformat_minor": 2
}
