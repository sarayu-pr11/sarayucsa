{
 "cells": [
  {
   "attachments": {},
   "cell_type": "markdown",
   "metadata": {},
   "source": [
    "# Sorts and Big O Notation\n",
    "- toc: true\n",
    "- comments: false\n",
    "- categories: [jupyter]"
   ]
  },
  {
   "attachments": {},
   "cell_type": "markdown",
   "metadata": {},
   "source": [
    "## Checkpoint #3\n",
    "- build sort into data structure\n",
    "- perform BigO analysis and evaluation of best sorts from CB, use sorts from others to compare to yours\n",
    "- support Analysis with runtime data, also analyze number of compares and swaps. Consider space complexity"
   ]
  },
  {
   "cell_type": "code",
   "execution_count": 5,
   "metadata": {
    "vscode": {
     "languageId": "java"
    }
   },
   "outputs": [
    {
     "name": "stdout",
     "output_type": "stream",
     "text": [
      "Comparisons: 12497500\n",
      "Swaps: 4994\n",
      "Comparisons: 24995000\n",
      "Swaps: 9984\n",
      "Comparisons: 37492500\n",
      "Swaps: 14973\n",
      "Comparisons: 49990000\n",
      "Swaps: 19966\n",
      "Comparisons: 62487500\n",
      "Swaps: 24961\n",
      "Comparisons: 74985000\n",
      "Swaps: 29950\n",
      "Comparisons: 87482500\n",
      "Swaps: 34944\n",
      "Comparisons: 99980000\n",
      "Swaps: 39935\n",
      "Comparisons: 112477500\n",
      "Swaps: 44926\n",
      "Comparisons: 124975000\n",
      "Swaps: 49913\n",
      "Comparisons: 137472500\n",
      "Swaps: 54905\n",
      "Comparisons: 149970000\n",
      "Swaps: 59897\n",
      "Average time taken: 17 ms\n",
      "Average comparisons: 12497500\n",
      "Average swaps: 4991\n"
     ]
    }
   ],
   "source": [
    "public class SelectionSort {\n",
    "\n",
    "    public int comparisons = 0; // creates primitive data types \n",
    "    public int swaps = 0; // public so it's used by both methods\n",
    "\n",
    "    public static void main(String[] args) { // main method\n",
    "\n",
    "        long start = 0; // initializes long which is a primitive data type that stores whole numbers. common type of initialization for a counter or timer that needs to be incremented or decremented as part of a program's logic\n",
    "        long end = 0;\n",
    "\n",
    "        // create a new SelectionSort object\n",
    "        SelectionSort selectionSort = new SelectionSort();\n",
    " \n",
    "        for (int i=0;i<12;i++) { // create 12 arrays as per requirements\n",
    "        // generate 5000 random elements\n",
    "            int[] array = new int[5000]; // creates a new array with 5000 integer\n",
    "            for (int j=0;j<5000;j++) {\n",
    "            array[j] = (int)(Math.random()*50000000);\n",
    "            } // for loop generates the elements using random (math.random is only 0-1 so you mulitiply by 500 to get bigger number)\n",
    "            // sort the array\n",
    "            start += System.currentTimeMillis(); // before you start the sorting, it stores the current time\n",
    "            selectionSort.sort(array); // sorts\n",
    "            end += System.currentTimeMillis(); // stores the end time\n",
    "        } \n",
    "        // get average\n",
    "        System.out.println(\"Average time taken: \" + (end-start)/12 + \" ms\");\n",
    "        System.out.println(\"Average comparisons: \" + selectionSort.comparisons/12); \n",
    "        System.out.println(\"Average swaps: \" + selectionSort.swaps/12);\n",
    "    }\n",
    "\n",
    "    public void sort(int[] numbers) { // selection sort algorithm\n",
    "        int n = numbers.length; // figures out the length of the array\n",
    "                \n",
    "        for (int i = 0; i < n - 1; i++) { // for loop used to repeatedly finds the minimum value and swaps it\n",
    "            int minIndex = i; // outer loop iterates through array numbers and the minimum value is set to i\n",
    "            \n",
    "            for (int j = i + 1; j < n; j++) { // The inner loop  iterates through unsorted portion of the array after the current index i to the last element the algorithm compares the current element with the minimum element found so far\n",
    "\n",
    " \n",
    "                comparisons++; // records the number of comparision \n",
    "                if (numbers[j] < numbers[minIndex]) { // inside loop checks if the index is different from the current value\n",
    "                    minIndex = j; // if it is, the current value is set as the index \n",
    "                }\n",
    "            }\n",
    "        \n",
    "            if (minIndex != i) { // stores value of first element in the temp variable and then copying the value of the temporary variable to the minimum element's original position \n",
    "                int temp = numbers[i];\n",
    "                numbers[i] = numbers[minIndex];\n",
    "                numbers[minIndex] = temp;\n",
    "                swaps++; // number of swaps is implementing\n",
    "            }\n",
    "        }\n",
    "        \n",
    "        System.out.println(\"Comparisons: \" + comparisons);\n",
    "        System.out.println(\"Swaps: \" + swaps);\n",
    "    }\n",
    "}\n",
    "\n",
    "SelectionSort.main(null);"
   ]
  },
  {
   "attachments": {},
   "cell_type": "markdown",
   "metadata": {},
   "source": [
    "## Evaluation: \n",
    "- selection sort: 17 ms\n",
    "- insertion sort: 6ms\n",
    "- merge sort: 14 ms\n",
    "- bubble sort: 22 ms\n",
    "- insertion sort is the fastest even though it has the highest number of swaps. When I googled it, it said that Insertion sort is faster because it \"has less overhead\" which basically means that it requires less extra resources (memory, processor, time) than other algorithms."
   ]
  },
  {
   "attachments": {},
   "cell_type": "markdown",
   "metadata": {},
   "source": [
    "## HashMap example"
   ]
  },
  {
   "cell_type": "code",
   "execution_count": 2,
   "metadata": {
    "vscode": {
     "languageId": "java"
    }
   },
   "outputs": [
    {
     "name": "stdout",
     "output_type": "stream",
     "text": [
      "Average search time: 19434 nanoseconds\n"
     ]
    }
   ],
   "source": [
    "import java.util.HashMap;\n",
    "import java.util.Random;\n",
    "\n",
    "public class ExampleHashMapSearch {\n",
    "    public static void main(String[] args) {\n",
    "        // Create a new HashMap object with 5000 elements\n",
    "        HashMap<Integer, String> myHashMap = new HashMap<>();\n",
    "        for (int i = 0; i < 5000; i++) {\n",
    "            myHashMap.put(i, \"value_\" + i);\n",
    "        } \n",
    "\n",
    "        // Perform 12 searches with random keys\n",
    "        int numSearches = 12; // search for 12 different elements \n",
    "        int numKeys = 100; \n",
    "        int[] searchTimes = new int[numSearches];\n",
    "        Random rand = new Random();\n",
    "        for (int i = 0; i < numSearches; i++) {\n",
    "            // Generate random keys to search for\n",
    "            int[] keys = new int[numKeys];\n",
    "            for (int j = 0; j < numKeys; j++) {\n",
    "                keys[j] = rand.nextInt(5000);\n",
    "            }\n",
    "\n",
    "            // Search for the keys and record the time taken\n",
    "            long startTime = System.nanoTime();\n",
    "            for (int j = 0; j < numKeys; j++) {\n",
    "                myHashMap.get(keys[j]);\n",
    "            }\n",
    "            long endTime = System.nanoTime();\n",
    "            searchTimes[i] = (int) ((endTime - startTime));  // Convert nanoseconds to milliseconds\n",
    "        }\n",
    "\n",
    "        // Calculate the average search time\n",
    "        int sum = 0;\n",
    "        for (int i = 0; i < numSearches; i++) {\n",
    "            sum += searchTimes[i];\n",
    "        }\n",
    "        int avg = sum / numSearches;\n",
    "\n",
    "        // Print the results\n",
    "        System.out.println(\"Average search time: \" + avg + \" nanoseconds\");\n",
    "    }\n",
    "}\n",
    "ExampleHashMapSearch.main(null);"
   ]
  }
 ],
 "metadata": {
  "kernelspec": {
   "display_name": "Java",
   "language": "java",
   "name": "java"
  },
  "language_info": {
   "codemirror_mode": "java",
   "file_extension": ".jshell",
   "mimetype": "text/x-java-source",
   "name": "Java",
   "pygments_lexer": "java",
   "version": "11.0.17+8-post-Ubuntu-1ubuntu222.04"
  },
  "orig_nbformat": 4
 },
 "nbformat": 4,
 "nbformat_minor": 2
}
