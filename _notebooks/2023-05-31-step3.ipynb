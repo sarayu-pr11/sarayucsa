{
 "cells": [
  {
   "attachments": {},
   "cell_type": "markdown",
   "metadata": {},
   "source": [
    "# Step 3\n",
    "> Step 3\n",
    "- toc: true\n",
    "- categories: [jupyter]\n",
    "- comments: true"
   ]
  },
  {
   "attachments": {},
   "cell_type": "markdown",
   "metadata": {},
   "source": [
    "Now that we inputted good and usable data for the model to learn from, we can use the predictions that have been made thus far to find how accurate they are."
   ]
  },
  {
   "cell_type": "code",
   "execution_count": null,
   "metadata": {},
   "outputs": [],
   "source": [
    "predictions = backtest(weather, rr, predictors)\n",
    "\n",
    "from sklearn.metrics import mean_absolute_error, mean_squared_error\n",
    "\n",
    "mean_absolute_error(predictions[\"actual\"], predictions[\"prediction\"])"
   ]
  },
  {
   "attachments": {},
   "cell_type": "markdown",
   "metadata": {},
   "source": [
    "The output of this code should tell us the mean error of all the predictions. In this case, we have a mean absolute error of 5.13932667966084\n",
    "\n",
    "this means that on average, our predictions were about 5 degrees off\n"
   ]
  },
  {
   "cell_type": "code",
   "execution_count": null,
   "metadata": {},
   "outputs": [],
   "source": [
    "def pct_diff(old, new):\n",
    "    return (new - old) / old\n",
    "\n",
    "def compute_rolling(weather, horizon, col):\n",
    "    label = f\"rolling_{horizon}_{col}\"\n",
    "    weather[label] = weather[col].rolling(horizon).mean()\n",
    "    weather[f\"{label}_pct\"] = pct_diff(weather[label], weather[col])\n",
    "    return weather\n",
    "    \n",
    "rolling_horizons = [3, 14]\n",
    "for horizon in rolling_horizons:\n",
    "    for col in [\"tmax\", \"tmin\", \"prcp\"]:\n",
    "        weather = compute_rolling(weather, horizon, col)"
   ]
  },
  {
   "attachments": {},
   "cell_type": "markdown",
   "metadata": {},
   "source": [
    "The function pct_diff takes two parameters, old and new, and calculates the percentage difference between them by subtracting old from new and dividing the result by old. It returns the computed percentage difference.\n",
    "\n",
    "The function compute_rolling takes three parameters, weather (a DataFrame containing weather data), horizon (an integer representing the rolling window size), and col (a string specifying the column name to compute rolling averages and percentage differences for).\n",
    "\n",
    "Inside the compute_rolling function, a label variable is created using f-string formatting to represent the rolling computation being performed. For example, if horizon is 3 and col is \"tmax\", the label will be \"rolling_3_tmax\".\n",
    "\n",
    "The weather DataFrame is modified by adding a new column with the label computed above (weather[label]). This column represents the rolling average of the specified col over the given horizon. It is calculated using the rolling method of the DataFrame with the mean function applied to the specified col and a window size of horizon.\n",
    "\n",
    "Another new column is added to the weather DataFrame, representing the percentage difference between the rolling average and the original col values. The new column's label is created by appending \"_pct\" to the rolling label (e.g., \"rolling_3_tmax_pct\"). The pct_diff function is called to calculate the percentage difference using the rolling average column and the original col column as inputs.\n",
    "\n",
    "The modified weather DataFrame is returned from the compute_rolling function.\n",
    "\n",
    "A list called rolling_horizons is defined, which contains the horizon values for the rolling computation.\n",
    "\n",
    "A nested loop is used to iterate over each horizon in the rolling_horizons list and each col in the list [\"tmax\", \"tmin\", \"prcp\"].\n",
    "\n",
    "Inside the nested loop, the compute_rolling function is called to compute rolling averages and percentage differences for the current horizon and col values. The modified weather DataFrame is assigned back to the weather variable, effectively updating it with the new columns.\n",
    "\n",
    "In summary, this code calculates rolling averages and percentage differences for specified columns in a weather DataFrame. It iterates over different rolling window sizes (horizon) and columns (col) to perform the computations and modifies the DataFrame accordingly."
   ]
  }
 ],
 "metadata": {
  "kernelspec": {
   "display_name": "Python 3",
   "language": "python",
   "name": "python3"
  },
  "language_info": {
   "name": "python",
   "version": "3.10.6"
  },
  "orig_nbformat": 4
 },
 "nbformat": 4,
 "nbformat_minor": 2
}
