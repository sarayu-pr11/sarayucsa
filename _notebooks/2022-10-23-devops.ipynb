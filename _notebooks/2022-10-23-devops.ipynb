{
 "cells": [
  {
   "cell_type": "markdown",
   "metadata": {},
   "source": [
    "# DevOps Video\n",
    "> Devops Video\n",
    "- toc: false\n",
    "- comments: false"
   ]
  },
  {
   "cell_type": "markdown",
   "metadata": {},
   "source": [
    "## Authoring Tools\n",
    "- IDEs, Docker, Github\n",
    "\n",
    "## Deployed System\n",
    "![image](https://github.com/sarayu-pr11/sarayucsa/blob/master/_notebooks/images/image.png?raw=true)\n",
    "\n",
    "![image](https://github.com/sarayu-pr11/sarayucsa/blob/master/_notebooks/images/docker.png?raw=true)\n",
    "\n",
    "![image](https://github.com/sarayu-pr11/sarayucsa/blob/master/_notebooks/images/nginx.png?raw=true)\n",
    "\n",
    "## Github\n",
    "- branch management\n"
   ]
  }
 ],
 "metadata": {
  "kernelspec": {
   "display_name": "Java",
   "language": "java",
   "name": "java"
  },
  "language_info": {
   "name": "java",
   "version": "3.8.10"
  },
  "orig_nbformat": 4,
  "vscode": {
   "interpreter": {
    "hash": "916dbcbb3f70747c44a77c7bcd40155683ae19c65e1c03b4aa3499c5328201f1"
   }
  }
 },
 "nbformat": 4,
 "nbformat_minor": 2
}
