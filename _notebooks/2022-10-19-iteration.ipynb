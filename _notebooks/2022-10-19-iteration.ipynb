{
 "cells": [
  {
   "cell_type": "markdown",
   "metadata": {},
   "source": [
    "# Iteration Lesson\n",
    "> Unit 04 Iteration\n",
    "- toc: true\n",
    "- comments: false "
   ]
  },
  {
   "cell_type": "markdown",
   "metadata": {},
   "source": [
    "### Importance\n",
    "- 25% of ap test\n",
    "- to simplify code that would otherwise be repeated\n",
    "- loops, while and for and recursion\n",
    "\n",
    "### Operators\n",
    "- increment and decrement\n",
    "\n",
    "## While loops, for loops, recursion, nested loops\n",
    "\n",
    "### While loops\n",
    "- while a specific condition is true the loop will run\n",
    "- set i to a value and increment until the condition is false\n",
    "\n",
    "### For loops\n",
    "- for each thing in a sequence, it will loop\n",
    "- difference is that while runs while something is true \n",
    "- for loop runs for each thing that is true\n",
    "\n",
    "### Recursion\n",
    "- similar to while and for \n",
    "- you put it in the function: restate the same function within a function\n",
    "- use the code inside of the code\n",
    "\n",
    "### NEsted Iteration\n",
    "- not a java method, but a technique\n",
    "- any of the loops are usable\n",
    "- loop inside of a loop\n"
   ]
  },
  {
   "cell_type": "code",
   "execution_count": null,
   "metadata": {},
   "outputs": [],
   "source": [
    "import java.util.Scanner;\n",
    "\n",
    "public class Checker \n",
    "{\n",
    "    public static void main(String[] args) \n",
    "    {\n",
    "        int number;  \n",
    "\t\n",
    "        // Create a Scanner object for keyboard input.  \n",
    "        Scanner keyboard = new Scanner(System.in);  \n",
    "             \n",
    "        // Get a number from the user.  \n",
    "        System.out.print(\"Enter a number in the range of 1 through 100: \");  \n",
    "        number = keyboard.nextInt();  \n",
    "\n",
    "        while (number > 100 || number < 1)\n",
    "        {  \n",
    "           System.out.print(\"Invalid input. Enter a number in the range \" +  \n",
    "                            \"of 1 through 100: \");  \n",
    "           number = keyboard.nextInt();  \n",
    "        } \n",
    "    }\n",
    "}\n",
    "\n",
    "Checker.main(null)"
   ]
  },
  {
   "cell_type": "code",
   "execution_count": 3,
   "metadata": {},
   "outputs": [],
   "source": [
    "public class LoopConversion \n",
    "{\n",
    "    public static void main(String[] args) \n",
    "    {\n",
    "        int count = 0;\n",
    "        //convert to for loop\n",
    "        for (count=0; count < 5; count ++ )\n",
    "        {\n",
    "            System.out.println(\"count is \" + count);\n",
    "        \n",
    "        }\n",
    "    }\n",
    "}"
   ]
  },
  {
   "cell_type": "code",
   "execution_count": 11,
   "metadata": {},
   "outputs": [
    {
     "name": "stdout",
     "output_type": "stream",
     "text": [
      "While Loop: 0\n",
      "While Loop: 0\n",
      "While Loop: 0\n",
      "While Loop: 0\n",
      "For loop: 0\n",
      "For loop: 0\n",
      "For loop: 0\n",
      "For loop: 0\n"
     ]
    }
   ],
   "source": [
    "var i = 0;\n",
    "int count = 1;\n",
    "while (count < 5) {\n",
    "    System.out.println(\"While Loop: \" + i);\n",
    "    count ++;\n",
    "}\n",
    "\n",
    "for (count=1; count<5 ; count++) {\n",
    "    System.out.println(\"For loop: \" + i);\n",
    "}"
   ]
  },
  {
   "cell_type": "markdown",
   "metadata": {},
   "source": [
    "## Homework\n",
    "1. Write a program where the user inputs their monthly budget. The loop should then ask the user to input each of their monthly expenses. These expenses should be kept in a running total. The final output should display if the user is over or under their budget for the month, and by how much.\n",
    "2. Write a program where a random number is generated. Then the user tries to guess the number. If they guess too high display something to let them know, and same for if they guess a number that is too low. The loop must iterate until the number is guessed correctly."
   ]
  },
  {
   "cell_type": "code",
   "execution_count": null,
   "metadata": {},
   "outputs": [],
   "source": [
    "import java.util.Scanner;\n",
    " \n",
    "public class Numberguesser {\n",
    "\n",
    "    public static void\n",
    "    guessnumber()\n",
    "    {\n",
    "        \n",
    "        Scanner scanner = new Scanner(System.in);\n",
    " \n",
    "        int number = 1 + (int)(100* Math.random());\n",
    " \n",
    "        int i, guess;\n",
    " \n",
    "        System.out.println(\n",
    "            \"A number is chosen between 1 to 100.\"\n",
    "            + \"Guess the number\"\n",
    "            + \" within 5 trials.\");\n",
    " \n",
    "\n",
    "        for (i = 0; i < 5; i++) {\n",
    " \n",
    "            System.out.println(\n",
    "                \"Guess a number:\");\n",
    " \n",
    "\n",
    "            guess = scanner.nextInt();\n",
    "\n",
    "            if (number == guess) {\n",
    "                System.out.println(\"You guessed the number.\");\n",
    "                break;\n",
    "            }\n",
    "            else if (number > guess&& i != 5 - 1) {\n",
    "                System.out.println(\"The number is greater than \" + guess);\n",
    "            }\n",
    "            else if (number < guess && i != 5 - 1) {\n",
    "                System.out.println(\"The number is less than \" + guess);\n",
    "            }\n",
    "        }\n",
    " \n",
    "        if (i == 5) {\n",
    "            System.out.println(\n",
    "                \"You have used all 5 trials.\");\n",
    " \n",
    "            System.out.println(\n",
    "                \"The number was \" + number);\n",
    "        }\n",
    "    }\n",
    " \n",
    "    // Driver Code\n",
    "    public static void\n",
    "    main(String arg[])\n",
    "    {\n",
    " \n",
    "        // Function Call\n",
    "        guessnumber();\n",
    "    }\n",
    "}\n",
    "\n",
    "Numberguesser.main(null);"
   ]
  },
  {
   "cell_type": "markdown",
   "metadata": {},
   "source": [
    "![image](https://github.com/sarayu-pr11/sarayucsa/blob/master/_notebooks/images/quiz.png?raw=true)"
   ]
  }
 ],
 "metadata": {
  "kernelspec": {
   "display_name": "Java",
   "language": "java",
   "name": "java"
  },
  "language_info": {
   "codemirror_mode": "java",
   "file_extension": ".jshell",
   "mimetype": "text/x-java-source",
   "name": "java",
   "pygments_lexer": "java",
   "version": "11.0.16+8-post-Ubuntu-0ubuntu120.04"
  },
  "orig_nbformat": 4
 },
 "nbformat": 4,
 "nbformat_minor": 2
}
