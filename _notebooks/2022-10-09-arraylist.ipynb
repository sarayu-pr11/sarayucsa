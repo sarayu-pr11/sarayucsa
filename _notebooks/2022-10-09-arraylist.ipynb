{
 "cells": [
  {
   "cell_type": "markdown",
   "metadata": {},
   "source": [
    "# Array List Java Notebook\n",
    "> Array lists\n",
    "- toc: false\n",
    "- comments: true\n",
    "- categories: [jupyter]"
   ]
  },
  {
   "cell_type": "code",
   "execution_count": 6,
   "metadata": {
    "vscode": {
     "languageId": "java"
    }
   },
   "outputs": [
    {
     "name": "stdout",
     "output_type": "stream",
     "text": [
      "[arms, legs, skull, trachea, toes]\n"
     ]
    }
   ],
   "source": [
    "import java.util.ArrayList; //import array list class\n",
    "\n",
    "public class Main {\n",
    "  public static void main(String[] args) {\n",
    "    ArrayList<String> bodyparts = new ArrayList<String>();\n",
    "    bodyparts.add(\"arms\");\n",
    "    bodyparts.add(\"legs\");\n",
    "    bodyparts.add(\"skull\");\n",
    "    bodyparts.add(\"trachea\");\n",
    "    bodyparts.add(\"toes\");\n",
    "    System.out.println(bodyparts);\n",
    "  }\n",
    "}\n",
    "\n",
    "Main.main(null)"
   ]
  },
  {
   "cell_type": "code",
   "execution_count": 4,
   "metadata": {
    "vscode": {
     "languageId": "java"
    }
   },
   "outputs": [
    {
     "name": "stdout",
     "output_type": "stream",
     "text": [
      "toes\n"
     ]
    }
   ],
   "source": [
    "import java.util.ArrayList; //import array list class\n",
    "\n",
    "public class Main {\n",
    "  public static void main(String[] args) {\n",
    "    ArrayList<String> bodyparts = new ArrayList<String>();\n",
    "    bodyparts.add(\"arms\");\n",
    "    bodyparts.add(\"legs\");\n",
    "    bodyparts.add(\"skull\");\n",
    "    bodyparts.add(\"trachea\");\n",
    "    bodyparts.add(\"toes\");\n",
    "    System.out.println(bodyparts.get(4));\n",
    "  }\n",
    "}\n",
    "\n",
    "Main.main(null)"
   ]
  },
  {
   "cell_type": "code",
   "execution_count": 7,
   "metadata": {
    "vscode": {
     "languageId": "java"
    }
   },
   "outputs": [
    {
     "name": "stdout",
     "output_type": "stream",
     "text": [
      "5\n"
     ]
    }
   ],
   "source": [
    "import java.util.ArrayList; //import array list class\n",
    "\n",
    "public class Main {\n",
    "  public static void main(String[] args) {\n",
    "    ArrayList<String> bodyparts = new ArrayList<String>();\n",
    "    bodyparts.add(\"arms\");\n",
    "    bodyparts.add(\"legs\");\n",
    "    bodyparts.add(\"skull\");\n",
    "    bodyparts.add(\"trachea\");\n",
    "    bodyparts.add(\"toes\");\n",
    "    System.out.println(bodyparts.size());\n",
    "  }\n",
    "}\n",
    "\n",
    "Main.main(null)"
   ]
  },
  {
   "cell_type": "code",
   "execution_count": 12,
   "metadata": {
    "vscode": {
     "languageId": "java"
    }
   },
   "outputs": [
    {
     "name": "stdout",
     "output_type": "stream",
     "text": [
      "[arms, legs, skull, trachea, toes]\n",
      "Modified: [arms, legs, kneecaps, trachea, toes]\n"
     ]
    }
   ],
   "source": [
    "import java.util.ArrayList; //import array list class\n",
    "\n",
    "public class Main {\n",
    "  public static void main(String[] args) {\n",
    "    ArrayList<String> bodyparts = new ArrayList<String>();\n",
    "    bodyparts.add(\"arms\");\n",
    "    bodyparts.add(\"legs\");\n",
    "    bodyparts.add(\"skull\");\n",
    "    bodyparts.add(\"trachea\");\n",
    "    bodyparts.add(\"toes\");\n",
    "    System.out.println(bodyparts);\n",
    "\n",
    "    bodyparts.set(2, \"kneecaps\");\n",
    "    System.out.println(\"Modified: \" + bodyparts);\n",
    "  }\n",
    "}\n",
    "\n",
    "Main.main(null)"
   ]
  }
 ],
 "metadata": {
  "kernelspec": {
   "display_name": "Java",
   "language": "java",
   "name": "java"
  },
  "language_info": {
   "codemirror_mode": "java",
   "file_extension": ".jshell",
   "mimetype": "text/x-java-source",
   "name": "Java",
   "pygments_lexer": "java",
   "version": "11.0.16+8-post-Ubuntu-0ubuntu120.04"
  },
  "orig_nbformat": 4
 },
 "nbformat": 4,
 "nbformat_minor": 2
}
