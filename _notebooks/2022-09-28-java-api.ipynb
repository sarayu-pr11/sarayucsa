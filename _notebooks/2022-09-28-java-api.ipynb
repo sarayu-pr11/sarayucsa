{
 "cells": [
  {
   "cell_type": "markdown",
   "metadata": {},
   "source": [
    "# Java API / RapidAPI\n",
    "> API Data\n",
    "- toc: false\n",
    "- comments: true\n",
    "- categories: [jupyter]"
   ]
  },
  {
   "cell_type": "code",
   "execution_count": 4,
   "metadata": {
    "vscode": {
     "languageId": "java"
    }
   },
   "outputs": [
    {
     "name": "stdout",
     "output_type": "stream",
     "text": [
      "[{\"event_number\":\"1175154\",\"link\":\"https://www.emsc-csem.org/Earthquake/earthquake.php?id=1175154\",\"date\":\"2022-10-03\",\"time\":\"07:07:52.8\",\"time_ago\":\"20min ago\",\"latitude\":\"32.96 N\",\"longitude\":\"115.88 W\",\"depth\":\"11 km\",\"magnitude\":\"2.3\",\"magnitude_type\":\"Ml\",\"location\":\"SOUTHERN CALIFORNIA\",\"testimonies\":\"\",\"testimonies_link\":\"\",\"updated\":\"2022-10-03 07:11\"},{\"event_number\":\"1175155\",\"link\":\"https://www.emsc-csem.org/Earthquake/earthquake.php?id=1175155\",\"date\":\"2022-10-03\",\"time\":\"07:00:43.5\",\"time_ago\":\"27min ago\",\"latitude\":\"56.44 S\",\"longitude\":\"26.04 W\",\"depth\":\"40 km\",\"magnitude\":\"5.5\",\"magnitude_type\":\"Mw\",\"location\":\"SOUTH SANDWICH ISLANDS REGION\",\"testimonies\":\"\",\"testimonies_link\":\"\",\"updated\":\"2022-10-03 07:21\"},{\"event_number\":\"1175149\",\"link\":\"https://www.emsc-csem.org/Earthquake/earthquake.php?id=1175149\",\"date\":\"2022-10-03\",\"time\":\"06:52:17.0\",\"time_ago\":\"35min ago\",\"latitude\":\"10.85 N\",\"longitude\":\"85.13 W\",\"depth\":\"6 km\",\"magnitude\":\"2.9\",\"magnitude_type\":\"M\",\"location\":\"COSTA RICA\",\"testimonies\":\"\",\"testimonies_link\":\"\",\"updated\":\"2022-10-03 06:55\"},{\"event_number\":\"1175147\",\"link\":\"https://www.emsc-csem.org/Earthquake/earthquake.php?id=1175147\",\"date\":\"2022-10-03\",\"time\":\"06:44:05.0\",\"time_ago\":\"44min ago\",\"latitude\":\"2.03 N\",\"longitude\":\"98.97 E\",\"depth\":\"10 km\",\"magnitude\":\"2.5\",\"magnitude_type\":\"M\",\"location\":\"NORTHERN SUMATRA, INDONESIA\",\"testimonies\":\"\",\"testimonies_link\":\"\",\"updated\":\"2022-10-03 06:50\"},{\"event_number\":\"1175141\",\"link\":\"https://www.emsc-csem.org/Earthquake/earthquake.php?id=1175141\",\"date\":\"2022-10-03\",\"time\":\"06:36:52.0\",\"time_ago\":\"51min ago\",\"latitude\":\"19.46 N\",\"longitude\":\"155.65 W\",\"depth\":\"-4 km\",\"magnitude\":\"2.4\",\"magnitude_type\":\"ML\",\"location\":\"ISLAND OF HAWAII, HAWAII\",\"testimonies\":\"\",\"testimonies_link\":\"\",\"updated\":\"2022-10-03 06:42\"},{\"event_number\":\"1175150\",\"link\":\"https://www.emsc-csem.org/Earthquake/earthquake.php?id=1175150\",\"date\":\"2022-10-03\",\"time\":\"06:34:54.2\",\"time_ago\":\"53min ago\",\"latitude\":\"25.56 S\",\"longitude\":\"129.97 E\",\"depth\":\"10 km\",\"magnitude\":\"3.1\",\"magnitude_type\":\"ML\",\"location\":\"NORTHERN TERRITORY, AUSTRALIA\",\"testimonies\":\"\",\"testimonies_link\":\"\",\"updated\":\"2022-10-03 06:55\"},{\"event_number\":\"1175139\",\"link\":\"https://www.emsc-csem.org/Earthquake/earthquake.php?id=1175139\",\"date\":\"2022-10-03\",\"time\":\"06:33:16.2\",\"time_ago\":\"54min ago\",\"latitude\":\"19.46 N\",\"longitude\":\"155.64 W\",\"depth\":\"4 km\",\"magnitude\":\"3.0\",\"magnitude_type\":\"Ml\",\"location\":\"ISLAND OF HAWAII, HAWAII\",\"testimonies\":\"\",\"testimonies_link\":\"\",\"updated\":\"2022-10-03 06:50\"},{\"event_number\":\"1175146\",\"link\":\"https://www.emsc-csem.org/Earthquake/earthquake.php?id=1175146\",\"date\":\"2022-10-03\",\"time\":\"06:31:53.3\",\"time_ago\":\"56min ago\",\"latitude\":\"17.93 N\",\"longitude\":\"67.08 W\",\"depth\":\"7 km\",\"magnitude\":\"2.7\",\"magnitude_type\":\"Md\",\"location\":\"PUERTO RICO REGION\",\"testimonies\":\"\",\"testimonies_link\":\"\",\"updated\":\"2022-10-03 06:48\"},{\"event_number\":\"1175132\",\"link\":\"https://www.emsc-csem.org/Earthquake/earthquake.php?id=1175132\",\"date\":\"2022-10-03\",\"time\":\"06:16:26.3\",\"time_ago\":\"1hr 11min ago\",\"latitude\":\"32.96 N\",\"longitude\":\"115.89 W\",\"depth\":\"12 km\",\"magnitude\":\"2.7\",\"magnitude_type\":\"Ml\",\"location\":\"SOUTHERN CALIFORNIA\",\"testimonies\":\"\",\"testimonies_link\":\"\",\"updated\":\"2022-10-03 06:19\"},{\"event_number\":\"1175131\",\"link\":\"https://www.emsc-csem.org/Earthquake/earthquake.php?id=1175131\",\"date\":\"2022-10-03\",\"time\":\"06:04:15.6\",\"time_ago\":\"1hr 23min ago\",\"latitude\":\"28.56 N\",\"longitude\":\"17.85 W\",\"depth\":\"12 km\",\"magnitude\":\"1.5\",\"magnitude_type\":\"ML\",\"location\":\"CANARY ISLANDS, SPAIN REGION\",\"testimonies\":\"\",\"testimonies_link\":\"\",\"updated\":\"2022-10-03 06:12\"},{\"event_number\":\"1175135\",\"link\":\"https://www.emsc-csem.org/Earthquake/earthquake.php?id=1175135\",\"date\":\"2022-10-03\",\"time\":\"06:02:55.0\",\"time_ago\":\"1hr 25min ago\",\"latitude\":\"22.40 S\",\"longitude\":\"68.97 W\",\"depth\":\"109 km\",\"magnitude\":\"2.6\",\"magnitude_type\":\"M\",\"location\":\"ANTOFAGASTA, CHILE\",\"testimonies\":\"\",\"testimonies_link\":\"\",\"updated\":\"2022-10-03 06:23\"},{\"event_number\":\"1175128\",\"link\":\"https://www.emsc-csem.org/Earthquake/earthquake.php?id=1175128\",\"date\":\"2022-10-03\",\"time\":\"06:02:46.9\",\"time_ago\":\"1hr 25min ago\",\"latitude\":\"28.55 N\",\"longitude\":\"17.87 W\",\"depth\":\"10 km\",\"magnitude\":\"1.7\",\"magnitude_type\":\"ML\",\"location\":\"CANARY ISLANDS, SPAIN REGION\",\"testimonies\":\"\",\"testimonies_link\":\"\",\"updated\":\"2022-10-03 06:09\"},{\"event_number\":\"1175126\",\"link\":\"https://www.emsc-csem.org/Earthquake/earthquake.php?id=1175126\",\"date\":\"2022-10-03\",\"time\":\"06:00:00.9\",\"time_ago\":\"1hr 28min ago\",\"latitude\":\"36.00 N\",\"longitude\":\"21.55 E\",\"depth\":\"2 km\",\"magnitude\":\"2.6\",\"magnitude_type\":\"ML\",\"location\":\"SOUTHERN GREECE\",\"testimonies\":\"\",\"testimonies_link\":\"\",\"updated\":\"2022-10-03 06:24\"},{\"event_number\":\"1175125\",\"link\":\"https://www.emsc-csem.org/Earthquake/earthquake.php?id=1175125\",\"date\":\"2022-10-03\",\"time\":\"05:53:48.3\",\"time_ago\":\"1hr 34min ago\",\"latitude\":\"37.30 N\",\"longitude\":\"2.19 W\",\"depth\":\"24 km\",\"magnitude\":\"1.9\",\"magnitude_type\":\"ML\",\"location\":\"SPAIN\",\"testimonies\":\"\",\"testimonies_link\":\"\",\"updated\":\"2022-10-03 06:04\"},{\"event_number\":\"1175127\",\"link\":\"https://www.emsc-csem.org/Earthquake/earthquake.php?id=1175127\",\"date\":\"2022-10-03\",\"time\":\"05:36:53.2\",\"time_ago\":\"1hr 51min ago\",\"latitude\":\"19.18 N\",\"longitude\":\"65.50 W\",\"depth\":\"48 km\",\"magnitude\":\"3.4\",\"magnitude_type\":\"Md\",\"location\":\"PUERTO RICO REGION\",\"testimonies\":\"\",\"testimonies_link\":\"\",\"updated\":\"2022-10-03 06:08\"},{\"event_number\":\"1175124\",\"link\":\"https://www.emsc-csem.org/Earthquake/earthquake.php?id=1175124\",\"date\":\"2022-10-03\",\"time\":\"05:34:36.8\",\"time_ago\":\"1hr 53min ago\",\"latitude\":\"6.47 S\",\"longitude\":\"130.09 E\",\"depth\":\"134 km\",\"magnitude\":\"4.4\",\"magnitude_type\":\"mb\",\"location\":\"BANDA SEA\",\"testimonies\":\"\",\"testimonies_link\":\"\",\"updated\":\"2022-10-03 06:45\"},{\"event_number\":\"1175123\",\"link\":\"https://www.emsc-csem.org/Earthquake/earthquake.php?id=1175123\",\"date\":\"2022-10-03\",\"time\":\"05:26:22.0\",\"time_ago\":\"2hr 01min ago\",\"latitude\":\"38.15 S\",\"longitude\":\"74.92 W\",\"depth\":\"16 km\",\"magnitude\":\"2.5\",\"magnitude_type\":\"M\",\"location\":\"OFF COAST OF ARAUCANIA, CHILE\",\"testimonies\":\"\",\"testimonies_link\":\"\",\"updated\":\"2022-10-03 05:40\"},{\"event_number\":\"1175122\",\"link\":\"https://www.emsc-csem.org/Earthquake/earthquake.php?id=1175122\",\"date\":\"2022-10-03\",\"time\":\"05:26:02.0\",\"time_ago\":\"2hr 02min ago\",\"latitude\":\"45.49 N\",\"longitude\":\"7.57 E\",\"depth\":\"4 km\",\"magnitude\":\"0.9\",\"magnitude_type\":\"ML\",\"location\":\"NORTHERN ITALY\",\"testimonies\":\"\",\"testimonies_link\":\"\",\"updated\":\"2022-10-03 06:14\"},{\"event_number\":\"1175121\",\"link\":\"https://www.emsc-csem.org/Earthquake/earthquake.php?id=1175121\",\"date\":\"2022-10-03\",\"time\":\"05:18:39.0\",\"time_ago\":\"2hr 09min ago\",\"latitude\":\"2.11 N\",\"longitude\":\"99.00 E\",\"depth\":\"10 km\",\"magnitude\":\"2.9\",\"magnitude_type\":\"M\",\"location\":\"NORTHERN SUMATRA, INDONESIA\",\"testimonies\":\"\",\"testimonies_link\":\"\",\"updated\":\"2022-10-03 05:25\"},{\"event_number\":\"1175115\",\"link\":\"https://www.emsc-csem.org/Earthquake/earthquake.php?id=1175115\",\"date\":\"2022-10-03\",\"time\":\"04:54:27.0\",\"time_ago\":\"2hr 33min ago\",\"latitude\":\"2.10 N\",\"longitude\":\"98.91 E\",\"depth\":\"10 km\",\"magnitude\":\"2.7\",\"magnitude_type\":\"M\",\"location\":\"NORTHERN SUMATRA, INDONESIA\",\"testimonies\":\"\",\"testimonies_link\":\"\",\"updated\":\"2022-10-03 05:00\"},{\"event_number\":\"1175112\",\"link\":\"https://www.emsc-csem.org/Earthquake/earthquake.php?id=1175112\",\"date\":\"2022-10-03\",\"time\":\"04:48:02.5\",\"time_ago\":\"2hr 40min ago\",\"latitude\":\"19.18 N\",\"longitude\":\"155.44 W\",\"depth\":\"33 km\",\"magnitude\":\"3.1\",\"magnitude_type\":\"Ml\",\"location\":\"ISLAND OF HAWAII, HAWAII\",\"testimonies\":\"\",\"testimonies_link\":\"\",\"updated\":\"2022-10-03 04:53\"},{\"event_number\":\"1175118\",\"link\":\"https://www.emsc-csem.org/Earthquake/earthquake.php?id=1175118\",\"date\":\"2022-10-03\",\"time\":\"04:41:38.9\",\"time_ago\":\"2hr 46min ago\",\"latitude\":\"65.06 N\",\"longitude\":\"151.15 W\",\"depth\":\"19 km\",\"magnitude\":\"2.5\",\"magnitude_type\":\"ML\",\"location\":\"NORTHERN ALASKA\",\"testimonies\":\"\",\"testimonies_link\":\"\",\"updated\":\"2022-10-03 05:08\"},{\"event_number\":\"1175120\",\"link\":\"https://www.emsc-csem.org/Earthquake/earthquake.php?id=1175120\",\"date\":\"2022-10-03\",\"time\":\"04:37:01.6\",\"time_ago\":\"2hr 51min ago\",\"latitude\":\"36.69 N\",\"longitude\":\"4.61 W\",\"depth\":\"76 km\",\"magnitude\":\"2.2\",\"magnitude_type\":\"mb\",\"location\":\"STRAIT OF GIBRALTAR\",\"testimonies\":\"\",\"testimonies_link\":\"\",\"updated\":\"2022-10-03 05:13\"},{\"event_number\":\"1175111\",\"link\":\"https://www.emsc-csem.org/Earthquake/earthquake.php?id=1175111\",\"date\":\"2022-10-03\",\"time\":\"04:33:18.0\",\"time_ago\":\"2hr 54min ago\",\"latitude\":\"21.91 S\",\"longitude\":\"68.51 W\",\"depth\":\"125 km\",\"magnitude\":\"2.5\",\"magnitude_type\":\"M\",\"location\":\"ANTOFAGASTA, CHILE\",\"testimonies\":\"\",\"testimonies_link\":\"\",\"updated\":\"2022-10-03 04:43\"},{\"event_number\":\"1175109\",\"link\":\"https://www.emsc-csem.org/Earthquake/earthquake.php?id=1175109\",\"date\":\"2022-10-03\",\"time\":\"04:30:23.7\",\"time_ago\":\"2hr 57min ago\",\"latitude\":\"39.50 N\",\"longitude\":\"24.66 E\",\"depth\":\"6 km\",\"magnitude\":\"2.4\",\"magnitude_type\":\"ML\",\"location\":\"AEGEAN SEA\",\"testimonies\":\"\",\"testimonies_link\":\"\",\"updated\":\"2022-10-03 06:44\"},{\"event_number\":\"1175110\",\"link\":\"https://www.emsc-csem.org/Earthquake/earthquake.php?id=1175110\",\"date\":\"2022-10-03\",\"time\":\"04:27:05.0\",\"time_ago\":\"3hr 01min ago\",\"latitude\":\"9.54 S\",\"longitude\":\"109.88 E\",\"depth\":\"10 km\",\"magnitude\":\"3.9\",\"magnitude_type\":\"M\",\"location\":\"SOUTH OF JAVA, INDONESIA\",\"testimonies\":\"\",\"testimonies_link\":\"\",\"updated\":\"2022-10-03 04:40\"},{\"event_number\":\"1175117\",\"link\":\"https://www.emsc-csem.org/Earthquake/earthquake.php?id=1175117\",\"date\":\"2022-10-03\",\"time\":\"04:05:36.8\",\"time_ago\":\"3hr 22min ago\",\"latitude\":\"37.13 N\",\"longitude\":\"4.07 W\",\"depth\":\"13 km\",\"magnitude\":\"1.5\",\"magnitude_type\":\"ML\",\"location\":\"SPAIN\",\"testimonies\":\"\",\"testimonies_link\":\"\",\"updated\":\"2022-10-03 05:05\"},{\"event_number\":\"1175105\",\"link\":\"https://www.emsc-csem.org/Earthquake/earthquake.php?id=1175105\",\"date\":\"2022-10-03\",\"time\":\"04:00:43.9\",\"time_ago\":\"3hr 27min ago\",\"latitude\":\"35.68 S\",\"longitude\":\"178.77 E\",\"depth\":\"214 km\",\"magnitude\":\"3.0\",\"magnitude_type\":\"M\",\"location\":\"OFF E. COAST OF N. ISLAND, N.Z.\",\"testimonies\":\"\",\"testimonies_link\":\"\",\"updated\":\"2022-10-03 04:05\"},{\"event_number\":\"1175101\",\"link\":\"https://www.emsc-csem.org/Earthquake/earthquake.php?id=1175101\",\"date\":\"2022-10-03\",\"time\":\"03:46:35.4\",\"time_ago\":\"3hr 41min ago\",\"latitude\":\"19.21 N\",\"longitude\":\"155.40 W\",\"depth\":\"38 km\",\"magnitude\":\"2.7\",\"magnitude_type\":\"ML\",\"location\":\"ISLAND OF HAWAII, HAWAII\",\"testimonies\":\"\",\"testimonies_link\":\"\",\"updated\":\"2022-10-03 04:54\"},{\"event_number\":\"1175104\",\"link\":\"https://www.emsc-csem.org/Earthquake/earthquake.php?id=1175104\",\"date\":\"2022-10-03\",\"time\":\"03:44:15.1\",\"time_ago\":\"3hr 43min ago\",\"latitude\":\"18.28 N\",\"longitude\":\"67.01 W\",\"depth\":\"36 km\",\"magnitude\":\"2.5\",\"magnitude_type\":\"Md\",\"location\":\"PUERTO RICO\",\"testimonies\":\"\",\"testimonies_link\":\"\",\"updated\":\"2022-10-03 04:03\"},{\"event_number\":\"1175100\",\"link\":\"https://www.emsc-csem.org/Earthquake/earthquake.php?id=1175100\",\"date\":\"2022-10-03\",\"time\":\"03:26:38.0\",\"time_ago\":\"4hr 01min ago\",\"latitude\":\"8.65 S\",\"longitude\":\"76.01 W\",\"depth\":\"18 km\",\"magnitude\":\"4.2\",\"magnitude_type\":\"M\",\"location\":\"CENTRAL PERU\",\"testimonies\":\"\",\"testimonies_link\":\"\",\"updated\":\"2022-10-03 03:40\"},{\"event_number\":\"1175103\",\"link\":\"https://www.emsc-csem.org/Earthquake/earthquake.php?id=1175103\",\"date\":\"2022-10-03\",\"time\":\"03:15:28.2\",\"time_ago\":\"4hr 12min ago\",\"latitude\":\"37.16 N\",\"longitude\":\"4.07 W\",\"depth\":\"8 km\",\"magnitude\":\"2.2\",\"magnitude_type\":\"ML\",\"location\":\"SPAIN\",\"testimonies\":\"\",\"testimonies_link\":\"\",\"updated\":\"2022-10-03 03:56\"},{\"event_number\":\"1175102\",\"link\":\"https://www.emsc-csem.org/Earthquake/earthquake.php?id=1175102\",\"date\":\"2022-10-03\",\"time\":\"03:12:17.6\",\"time_ago\":\"4hr 15min ago\",\"latitude\":\"18.91 N\",\"longitude\":\"66.52 W\",\"depth\":\"48 km\",\"magnitude\":\"3.4\",\"magnitude_type\":\"Md\",\"location\":\"PUERTO RICO REGION\",\"testimonies\":\"\",\"testimonies_link\":\"\",\"updated\":\"2022-10-03 03:53\"},{\"event_number\":\"1175099\",\"link\":\"https://www.emsc-csem.org/Earthquake/earthquake.php?id=1175099\",\"date\":\"2022-10-03\",\"time\":\"03:11:48.3\",\"time_ago\":\"4hr 16min ago\",\"latitude\":\"37.17 N\",\"longitude\":\"4.07 W\",\"depth\":\"4 km\",\"magnitude\":\"2.1\",\"magnitude_type\":\"ML\",\"location\":\"SPAIN\",\"testimonies\":\"\",\"testimonies_link\":\"\",\"updated\":\"2022-10-03 03:35\"},{\"event_number\":\"1175096\",\"link\":\"https://www.emsc-csem.org/Earthquake/earthquake.php?id=1175096\",\"date\":\"2022-10-03\",\"time\":\"03:07:30.0\",\"time_ago\":\"4hr 20min ago\",\"latitude\":\"40.30 N\",\"longitude\":\"139.00 E\",\"depth\":\"10 km\",\"magnitude\":\"4.4\",\"magnitude_type\":\"M\",\"location\":\"NEAR WEST COAST OF HONSHU, JAPAN\",\"testimonies\":\"\",\"testimonies_link\":\"\",\"updated\":\"2022-10-03 03:15\"},{\"event_number\":\"1175097\",\"link\":\"https://www.emsc-csem.org/Earthquake/earthquake.php?id=1175097\",\"date\":\"2022-10-03\",\"time\":\"03:03:33.4\",\"time_ago\":\"4hr 24min ago\",\"latitude\":\"28.13 N\",\"longitude\":\"16.23 W\",\"depth\":\"4 km\",\"magnitude\":\"1.8\",\"magnitude_type\":\"ML\",\"location\":\"CANARY ISLANDS, SPAIN REGION\",\"testimonies\":\"\",\"testimonies_link\":\"\",\"updated\":\"2022-10-03 03:18\"},{\"event_number\":\"1175098\",\"link\":\"https://www.emsc-csem.org/Earthquake/earthquake.php?id=1175098\",\"date\":\"2022-10-03\",\"time\":\"02:59:30.0\",\"time_ago\":\"4hr 28min ago\",\"latitude\":\"18.45 N\",\"longitude\":\"103.67 W\",\"depth\":\"13 km\",\"magnitude\":\"4.0\",\"magnitude_type\":\"M\",\"location\":\"OFFSHORE MICHOACAN, MEXICO\",\"testimonies\":\"\",\"testimonies_link\":\"\",\"updated\":\"2022-10-03 03:20\"},{\"event_number\":\"1175091\",\"link\":\"https://www.emsc-csem.org/Earthquake/earthquake.php?id=1175091\",\"date\":\"2022-10-03\",\"time\":\"02:43:05.0\",\"time_ago\":\"4hr 45min ago\",\"latitude\":\"8.29 S\",\"longitude\":\"117.98 E\",\"depth\":\"16 km\",\"magnitude\":\"2.8\",\"magnitude_type\":\"M\",\"location\":\"SUMBAWA REGION, INDONESIA\",\"testimonies\":\"\",\"testimonies_link\":\"\",\"updated\":\"2022-10-03 02:50\"},{\"event_number\":\"1175085\",\"link\":\"https://www.emsc-csem.org/Earthquake/earthquake.php?id=1175085\",\"date\":\"2022-10-03\",\"time\":\"02:23:01.5\",\"time_ago\":\"5hr 05min ago\",\"latitude\":\"39.19 S\",\"longitude\":\"174.87 E\",\"depth\":\"29 km\",\"magnitude\":\"3.0\",\"magnitude_type\":\"M\",\"location\":\"NORTH ISLAND OF NEW ZEALAND\",\"testimonies\":\"\",\"testimonies_link\":\"\",\"updated\":\"2022-10-03 02:25\"},{\"event_number\":\"1175092\",\"link\":\"https://www.emsc-csem.org/Earthquake/earthquake.php?id=1175092\",\"date\":\"2022-10-03\",\"time\":\"02:18:01.3\",\"time_ago\":\"5hr 10min ago\",\"latitude\":\"39.62 N\",\"longitude\":\"1.13 W\",\"depth\":\"1 km\",\"magnitude\":\"1.5\",\"magnitude_type\":\"ML\",\"location\":\"SPAIN\",\"testimonies\":\"\",\"testimonies_link\":\"\",\"updated\":\"2022-10-03 02:50\"},{\"event_number\":\"1175084\",\"link\":\"https://www.emsc-csem.org/Earthquake/earthquake.php?id=1175084\",\"date\":\"2022-10-03\",\"time\":\"02:15:22.5\",\"time_ago\":\"5hr 12min ago\",\"latitude\":\"35.39 N\",\"longitude\":\"25.63 E\",\"depth\":\"10 km\",\"magnitude\":\"2.0\",\"magnitude_type\":\"ML\",\"location\":\"CRETE, GREECE\",\"testimonies\":\"\",\"testimonies_link\":\"\",\"updated\":\"2022-10-03 06:43\"},{\"event_number\":\"1175086\",\"link\":\"https://www.emsc-csem.org/Earthquake/earthquake.php?id=1175086\",\"date\":\"2022-10-03\",\"time\":\"02:12:48.0\",\"time_ago\":\"5hr 15min ago\",\"latitude\":\"8.80 S\",\"longitude\":\"76.00 W\",\"depth\":\"14 km\",\"magnitude\":\"4.1\",\"magnitude_type\":\"M\",\"location\":\"CENTRAL PERU\",\"testimonies\":\"\",\"testimonies_link\":\"\",\"updated\":\"2022-10-03 02:25\"},{\"event_number\":\"1175082\",\"link\":\"https://www.emsc-csem.org/Earthquake/earthquake.php?id=1175082\",\"date\":\"2022-10-03\",\"time\":\"02:03:45.0\",\"time_ago\":\"5hr 24min ago\",\"latitude\":\"22.36 S\",\"longitude\":\"67.70 W\",\"depth\":\"206 km\",\"magnitude\":\"3.1\",\"magnitude_type\":\"M\",\"location\":\"POTOSI, BOLIVIA\",\"testimonies\":\"\",\"testimonies_link\":\"\",\"updated\":\"2022-10-03 02:15\"},{\"event_number\":\"1175083\",\"link\":\"https://www.emsc-csem.org/Earthquake/earthquake.php?id=1175083\",\"date\":\"2022-10-03\",\"time\":\"02:00:39.0\",\"time_ago\":\"5hr 27min ago\",\"latitude\":\"8.56 S\",\"longitude\":\"76.07 W\",\"depth\":\"10 km\",\"magnitude\":\"4.5\",\"magnitude_type\":\"mb\",\"location\":\"CENTRAL PERU\",\"testimonies\":\"\",\"testimonies_link\":\"\",\"updated\":\"2022-10-03 02:46\"},{\"event_number\":\"1175081\",\"link\":\"https://www.emsc-csem.org/Earthquake/earthquake.php?id=1175081\",\"date\":\"2022-10-03\",\"time\":\"02:00:10.1\",\"time_ago\":\"5hr 27min ago\",\"latitude\":\"37.14 N\",\"longitude\":\"4.10 W\",\"depth\":\"11 km\",\"magnitude\":\"1.5\",\"magnitude_type\":\"ML\",\"location\":\"SPAIN\",\"testimonies\":\"\",\"testimonies_link\":\"\",\"updated\":\"2022-10-03 02:14\"},{\"event_number\":\"1175090\",\"link\":\"https://www.emsc-csem.org/Earthquake/earthquake.php?id=1175090\",\"date\":\"2022-10-03\",\"time\":\"01:58:14.1\",\"time_ago\":\"5hr 29min ago\",\"latitude\":\"37.15 N\",\"longitude\":\"4.06 W\",\"depth\":\"10 km\",\"magnitude\":\"2.1\",\"magnitude_type\":\"ML\",\"location\":\"SPAIN\",\"testimonies\":\"\",\"testimonies_link\":\"\",\"updated\":\"2022-10-03 02:48\"},{\"event_number\":\"1175079\",\"link\":\"https://www.emsc-csem.org/Earthquake/earthquake.php?id=1175079\",\"date\":\"2022-10-03\",\"time\":\"01:58:05.2\",\"time_ago\":\"5hr 29min ago\",\"latitude\":\"19.42 N\",\"longitude\":\"155.29 W\",\"depth\":\"7 km\",\"magnitude\":\"2.1\",\"magnitude_type\":\"Md\",\"location\":\"ISLAND OF HAWAII, HAWAII\",\"testimonies\":\"\",\"testimonies_link\":\"\",\"updated\":\"2022-10-03 02:01\"},{\"event_number\":\"1175087\",\"link\":\"https://www.emsc-csem.org/Earthquake/earthquake.php?id=1175087\",\"date\":\"2022-10-03\",\"time\":\"01:56:43.9\",\"time_ago\":\"5hr 31min ago\",\"latitude\":\"37.15 N\",\"longitude\":\"4.04 W\",\"depth\":\"10 km\",\"magnitude\":\"2.1\",\"magnitude_type\":\"ML\",\"location\":\"SPAIN\",\"testimonies\":\"\",\"testimonies_link\":\"\",\"updated\":\"2022-10-03 02:37\"},{\"event_number\":\"1175077\",\"link\":\"https://www.emsc-csem.org/Earthquake/earthquake.php?id=1175077\",\"date\":\"2022-10-03\",\"time\":\"01:48:48.6\",\"time_ago\":\"5hr 39min ago\",\"latitude\":\"8.68 S\",\"longitude\":\"75.90 W\",\"depth\":\"10 km\",\"magnitude\":\"4.6\",\"magnitude_type\":\"mb\",\"location\":\"CENTRAL PERU\",\"testimonies\":\"\",\"testimonies_link\":\"\",\"updated\":\"2022-10-03 06:44\"},{\"event_number\":\"1175078\",\"link\":\"https://www.emsc-csem.org/Earthquake/earthquake.php?id=1175078\",\"date\":\"2022-10-03\",\"time\":\"01:43:37.8\",\"time_ago\":\"5hr 44min ago\",\"latitude\":\"32.46 N\",\"longitude\":\"102.04 W\",\"depth\":\"5 km\",\"magnitude\":\"3.1\",\"magnitude_type\":\"mb\",\"location\":\"WESTERN TEXAS\",\"testimonies\":\"\",\"testimonies_link\":\"\",\"updated\":\"2022-10-03 01:56\"}]\n"
     ]
    }
   ],
   "source": [
    "import java.net.URI;\n",
    "import java.net.http.HttpClient;\n",
    "import java.net.http.HttpRequest;\n",
    "import java.net.http.HttpResponse;\n",
    "\n",
    "//RapidAPI header  https://rapidapi.com/spamakashrajtech/api/corona-virus-world-and-india-data\n",
    "HttpRequest request = HttpRequest.newBuilder()\n",
    "\t\t.uri(URI.create(\"https://earthquake-monitor.p.rapidapi.com/recent\"))\n",
    "\t\t.header(\"X-RapidAPI-Key\", \"cb6c4ae0c0mshf7c680cd7f9687bp1c11edjsnd948864f5be3\")\n",
    "\t\t.header(\"X-RapidAPI-Host\", \"earthquake-monitor.p.rapidapi.com\")\n",
    "\t\t.method(\"GET\", HttpRequest.BodyPublishers.noBody())\n",
    "\t\t.build();\n",
    "HttpResponse<String> response = HttpClient.newHttpClient().send(request, HttpResponse.BodyHandlers.ofString());\n",
    "System.out.println(response.body());"
   ]
  },
  {
   "cell_type": "code",
   "execution_count": null,
   "metadata": {
    "vscode": {
     "languageId": "java"
    }
   },
   "outputs": [],
   "source": [
    "package com.nighthawk.spring_portfolio.mvc.covid;\n",
    "\n",
    "import java.net.URI;\n",
    "import java.net.http.HttpClient;\n",
    "import java.net.http.HttpRequest;\n",
    "import java.net.http.HttpResponse;\n",
    "import java.util.Date;\n",
    "import java.util.HashMap;\n",
    "\n",
    "import org.json.simple.JSONObject;\n",
    "import org.json.simple.parser.JSONParser;\n",
    "import org.springframework.http.HttpStatus;\n",
    "import org.springframework.http.ResponseEntity;\n",
    "import org.springframework.web.bind.annotation.*;\n",
    "\n",
    "@RestController // annotation to create a RESTful web services\n",
    "@RequestMapping(\"/api/covid\")  //prefix of API\n",
    "public class CovidApiController {\n",
    "    private JSONObject body; //last run result\n",
    "    private HttpStatus status; //last run status\n",
    "    String last_run = null; //last run day of month\n",
    "\n",
    "    // GET Covid 19 Stats\n",
    "    @GetMapping(\"/daily\")   //added to end of prefix as endpoint\n",
    "    public ResponseEntity<JSONObject> getCovid() {\n",
    "\n",
    "        //calls API once a day, sets body and status properties\n",
    "        String today = new Date().toString().substring(0,10); \n",
    "        if (last_run == null || !today.equals(last_run))\n",
    "        {\n",
    "            try {  //APIs can fail (ie Internet or Service down)\n",
    "\n",
    "                //RapidAPI header\n",
    "                HttpRequest request = HttpRequest.newBuilder()\n",
    "                    .uri(URI.create(\"https://corona-virus-world-and-india-data.p.rapidapi.com/api\"))\n",
    "                    .header(\"x-rapidapi-key\", \"dec069b877msh0d9d0827664078cp1a18fajsn2afac35ae063\")\n",
    "                    .header(\"x-rapidapi-host\", \"corona-virus-world-and-india-data.p.rapidapi.com\")\n",
    "                    .method(\"GET\", HttpRequest.BodyPublishers.noBody())\n",
    "                    .build();\n",
    "\n",
    "                //RapidAPI request and response\n",
    "                HttpResponse<String> response = HttpClient.newHttpClient().send(request, HttpResponse.BodyHandlers.ofString());\n",
    "\n",
    "                //JSONParser extracts text body and parses to JSONObject\n",
    "                this.body = (JSONObject) new JSONParser().parse(response.body());\n",
    "                this.status = HttpStatus.OK;  //200 success\n",
    "                this.last_run = today;\n",
    "            }\n",
    "            catch (Exception e) {  //capture failure info\n",
    "                HashMap<String, String> status = new HashMap<>();\n",
    "                status.put(\"status\", \"RapidApi failure: \" + e);\n",
    "\n",
    "                //Setup object for error\n",
    "                this.body = (JSONObject) status;\n",
    "                this.status = HttpStatus.INTERNAL_SERVER_ERROR; //500 error\n",
    "                this.last_run = null;\n",
    "            }\n",
    "        }\n",
    "\n",
    "        //return JSONObject in RESTful style\n",
    "        return new ResponseEntity<>(body, status);\n",
    "    }\n",
    "}"
   ]
  }
 ],
 "metadata": {
  "kernelspec": {
   "display_name": "Java",
   "language": "java",
   "name": "java"
  },
  "language_info": {
   "codemirror_mode": "java",
   "file_extension": ".jshell",
   "mimetype": "text/x-java-source",
   "name": "Java",
   "pygments_lexer": "java",
   "version": "11.0.16+8-post-Ubuntu-0ubuntu120.04"
  },
  "orig_nbformat": 4
 },
 "nbformat": 4,
 "nbformat_minor": 2
}
