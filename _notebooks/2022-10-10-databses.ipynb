{
 "cells": [
  {
   "cell_type": "code",
   "execution_count": 1,
   "metadata": {
    "vscode": {
     "languageId": "java"
    }
   },
   "outputs": [
    {
     "ename": "CompilationException",
     "evalue": "",
     "output_type": "error",
     "traceback": [
      "\u001b[1m\u001b[30m|   \u001b[1m\u001b[30mimport \u001b[0m\u001b[1m\u001b[30m\u001b[41mlombok.AllArgsConstructor\u001b[0m\u001b[1m\u001b[30m;\u001b[0m",
      "\u001b[1m\u001b[31mpackage lombok does not exist\u001b[0m",
      ""
     ]
    }
   ],
   "source": [
    "import lombok.AllArgsConstructor;\n",
    "import lombok.Data;\n",
    "import lombok.NoArgsConstructor;\n",
    "\n",
    "import javax.persistence.*;\n",
    "\n",
    "@Data  // Annotations to simplify writing code (ie constructors, setters)\n",
    "@NoArgsConstructor\n",
    "@AllArgsConstructor\n",
    "@Entity // Annotation to simplify creating an entity, which is a lightweight persistence domain object. Typically, an entity represents a table in a relational database, and each entity instance corresponds to a row in that table.\n",
    "public class Jokes {\n",
    "    @Id\n",
    "    @GeneratedValue(strategy = GenerationType.AUTO)\n",
    "    private Long id;  // Unique identifier\n",
    "\n",
    "    @Column(unique=true)\n",
    "    private String joke;  // The Joke\n",
    "\n",
    "    private int haha;  // Store joke likes\n",
    "    private int boohoo;  // Store joke jeers\n",
    "}"
   ]
  },
  {
   "cell_type": "code",
   "execution_count": 2,
   "metadata": {
    "vscode": {
     "languageId": "java"
    }
   },
   "outputs": [
    {
     "ename": "CompilationException",
     "evalue": "",
     "output_type": "error",
     "traceback": [
      "\u001b[1m\u001b[30m|   \u001b[1m\u001b[30mimport \u001b[0m\u001b[1m\u001b[30m\u001b[41morg.springframework.data.jpa.repository.JpaRepository\u001b[0m\u001b[1m\u001b[30m;\u001b[0m",
      "\u001b[1m\u001b[31mpackage org.springframework.data.jpa.repository does not exist\u001b[0m",
      ""
     ]
    }
   ],
   "source": [
    "import java.util.List;\n",
    "import org.springframework.data.jpa.repository.JpaRepository;\n",
    "\n",
    "// JPA is an object-relational mapping (ORM) to persistent data, originally relational databases (SQL). Today JPA implementations has been extended for NoSQL.\n",
    "public interface JokesJpaRepository extends JpaRepository<Jokes, Long> {\n",
    "    // JPA has many built in methods, these few have been prototyped for this application\n",
    "    void save(String Joke);\n",
    "\n",
    "    // A\n",
    "    List<Jokes> findAllByOrderByJokeAsc();  // returns a List of Jokes in Ascending order\n",
    "    List<Jokes> findByJokeIgnoreCase(String joke);  // look to see if Joke(s) exist\n",
    "}"
   ]
  },
  {
   "cell_type": "code",
   "execution_count": 3,
   "metadata": {
    "vscode": {
     "languageId": "java"
    }
   },
   "outputs": [
    {
     "ename": "CompilationException",
     "evalue": "",
     "output_type": "error",
     "traceback": [
      "\u001b[1m\u001b[30m|   \u001b[1m\u001b[30mimport \u001b[0m\u001b[1m\u001b[30m\u001b[41morg.springframework.beans.factory.annotation.Autowired\u001b[0m\u001b[1m\u001b[30m;\u001b[0m",
      "\u001b[1m\u001b[31mpackage org.springframework.beans.factory.annotation does not exist\u001b[0m",
      ""
     ]
    }
   ],
   "source": [
    "import org.springframework.beans.factory.annotation.Autowired;\n",
    "import org.springframework.http.HttpStatus;\n",
    "import org.springframework.http.ResponseEntity;\n",
    "import org.springframework.web.bind.annotation.*;\n",
    "\n",
    "import java.util.List;\n",
    "import java.util.Optional;\n",
    "\n",
    "@RestController // annotation to simplify the creation of RESTful web services\n",
    "@RequestMapping(\"/api/jokes\")  // all requests in file begin with this URI\n",
    "public class JokesApiController {\n",
    "\n",
    "    // Autowired enables Control to connect URI request and POJO Object to easily for Database CRUD operations\n",
    "    @Autowired\n",
    "    private JokesJpaRepository repository;\n",
    "\n",
    "    /* GET List of Jokes\n",
    "     * @GetMapping annotation is used for mapping HTTP GET requests onto specific handler methods.\n",
    "     */\n",
    "    @GetMapping(\"/\")\n",
    "    public ResponseEntity<List<Jokes>> getJokes() {\n",
    "        // ResponseEntity returns List of Jokes provide by JPA findAll()\n",
    "        return new ResponseEntity<>( repository.findAll(), HttpStatus.OK);\n",
    "    }\n",
    "\n",
    "    /* Update Like\n",
    "     * @PutMapping annotation is used for mapping HTTP PUT requests onto specific handler methods.\n",
    "     * @PathVariable annotation extracts the templated part {id}, from the URI\n",
    "     */\n",
    "    @PutMapping(\"/like/{id}\")\n",
    "    public ResponseEntity<Jokes> setLike(@PathVariable long id) {\n",
    "        /* \n",
    "        * Optional (below) is a container object which helps determine if a result is present. \n",
    "        * If a value is present, isPresent() will return true\n",
    "        * get() will return the value.\n",
    "        */\n",
    "        Optional<Jokes> optional = repository.findById(id);\n",
    "        if (optional.isPresent()) {  // Good ID\n",
    "            Jokes joke = optional.get();  // value from findByID\n",
    "            joke.setHaha(joke.getHaha()+1); // increment value\n",
    "            repository.save(joke);  // save entity\n",
    "            return new ResponseEntity<>(joke, HttpStatus.OK);  // OK HTTP response: status code, headers, and body\n",
    "        }\n",
    "        // Bad ID\n",
    "        return new ResponseEntity<>(HttpStatus.BAD_REQUEST);  // Failed HTTP response: status code, headers, and body\n",
    "    }\n",
    "\n",
    "    /* Update Jeer\n",
    "     */\n",
    "    @PutMapping(\"/jeer/{id}\")\n",
    "    public ResponseEntity<Jokes> setJeer(@PathVariable long id) {\n",
    "        Optional<Jokes> optional = repository.findById(id);\n",
    "        if (optional.isPresent()) {  // Good ID\n",
    "            Jokes joke = optional.get();\n",
    "            joke.setBoohoo(joke.getBoohoo()+1);\n",
    "            repository.save(joke);\n",
    "            return new ResponseEntity<>(joke, HttpStatus.OK);\n",
    "        }\n",
    "        // Bad ID\n",
    "        return new ResponseEntity<>(HttpStatus.BAD_REQUEST);\n",
    "    }\n",
    "}"
   ]
  }
 ],
 "metadata": {
  "kernelspec": {
   "display_name": "Java",
   "language": "java",
   "name": "java"
  },
  "language_info": {
   "codemirror_mode": "java",
   "file_extension": ".jshell",
   "mimetype": "text/x-java-source",
   "name": "Java",
   "pygments_lexer": "java",
   "version": "11.0.16+8-post-Ubuntu-0ubuntu120.04"
  },
  "orig_nbformat": 4
 },
 "nbformat": 4,
 "nbformat_minor": 2
}
