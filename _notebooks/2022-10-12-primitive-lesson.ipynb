{
 "cells": [
  {
   "cell_type": "markdown",
   "metadata": {},
   "source": [
    "# Primitive Lesson 10/12\n",
    "> Primitives and CollegeBoard\n",
    "- toc: true\n",
    "- comments: true\n",
    "- categories: [jupyter]"
   ]
  },
  {
   "cell_type": "markdown",
   "metadata": {},
   "source": [
    "## What is Java\n",
    "- java has garbage collection\n",
    "- when there is memory and collects the data\n",
    "- multi-threading (runs multiple things at once)\n",
    "- \n",
    "\n",
    "## Primitive vs. Non-primitive\n",
    "- primitives are predefined  \n",
    "- non primitives are done by you\n",
    "\n",
    "## Primitives\n",
    "### Boolean\n",
    "- true/false\n",
    "- one bit\n",
    "### Int\n",
    "- interger values\n",
    "- 2-3 bits\n",
    "### Double\n",
    "- decimal values 64 bits\n",
    "### Variable Naming\n",
    "- letters, numbers, or underscores\n",
    "- no special characters\n",
    "### Casting\n",
    "- manual vs automatic\n",
    "- narrowing foes from bigger data type to smaller\n",
    "- you have to declare it\n",
    "\n",
    "### Describing Behavior\n",
    "- use verbage to understand code segments\n",
    "\n",
    "## HW (due 10/24)\n",
    "- 2006 FRQ (1, 2a, 3a)"
   ]
  }
 ],
 "metadata": {
  "kernelspec": {
   "display_name": "Java",
   "language": "java",
   "name": "java"
  },
  "language_info": {
   "name": "java"
  },
  "orig_nbformat": 4
 },
 "nbformat": 4,
 "nbformat_minor": 2
}
