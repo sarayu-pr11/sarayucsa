{
 "cells": [
  {
   "cell_type": "markdown",
   "metadata": {},
   "source": [
    "# Primitive Lesson 10/12\n",
    "> Primitives and CollegeBoard\n",
    "- toc: true\n",
    "- comments: true\n",
    "- categories: [jupyter]"
   ]
  },
  {
   "cell_type": "markdown",
   "metadata": {},
   "source": [
    "## What is Java\n",
    "- java has garbage collection\n",
    "- when there is memory and collects the data\n",
    "- multi-threading (runs multiple things at once)\n",
    "\n",
    "## Primitive vs. Non-primitive\n",
    "- primitives are predefined  \n",
    "- non primitives are done by you\n",
    "\n",
    "## Vocab\n",
    "- **main method, tester methods**\n",
    "    - The main method is the entry point for executing a java program\n",
    "    - The tester method is the place where examples and parameters can be set to ensure a program runs \n",
    "\n",
    "## Primitives\n",
    "### Boolean\n",
    "- true/false\n",
    "- one bit\n",
    "### Int\n",
    "- interger values\n",
    "- 2-3 bits\n",
    "### Double\n",
    "- decimal values 64 bits\n",
    "### Variable Naming\n",
    "- letters, numbers, or underscores\n",
    "- no special characters\n",
    "### Casting\n",
    "- manual vs automatic\n",
    "- narrowing foes from bigger data type to smaller\n",
    "- you have to declare it\n",
    "\n",
    "### Describing Behavior\n",
    "- use verbage to understand code segments\n",
    "\n",
    "## HW (due 10/24)\n",
    "- 2006 FRQ (1, 2a, 3a)"
   ]
  },
  {
   "cell_type": "markdown",
   "metadata": {},
   "source": [
    "### 2006 FRQ\n",
    "2a) public double purchasePrice() {\n",
    "    return getListPrice() * (1+taxRate);\n",
    "}\n",
    "\n",
    "3a) public int compareCustomer(Customer other)\n",
    "  {\n",
    "    int compare =  getName().compareTo(other.getName());\n",
    "    if (compare == 0) {\n",
    "      return getID() - other.getID();\n",
    "    }\n",
    "    else {\n",
    "      return compare;\n",
    "    }\n",
    "  }"
   ]
  }
 ],
 "metadata": {
  "kernelspec": {
   "display_name": "Java",
   "language": "java",
   "name": "java"
  },
  "language_info": {
   "name": "java"
  },
  "orig_nbformat": 4
 },
 "nbformat": 4,
 "nbformat_minor": 2
}
