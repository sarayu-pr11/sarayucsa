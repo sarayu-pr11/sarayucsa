{
 "cells": [
  {
   "attachments": {},
   "cell_type": "markdown",
   "metadata": {},
   "source": [
    "# FRQ 4\n",
    "> CB FRQ 4\n",
    "- toc: false\n",
    "- comments: false"
   ]
  },
  {
   "cell_type": "code",
   "execution_count": 1,
   "metadata": {
    "vscode": {
     "languageId": "java"
    }
   },
   "outputs": [
    {
     "name": "stdout",
     "output_type": "stream",
     "text": [
      "true\n",
      "true\n",
      "false\n"
     ]
    }
   ],
   "source": [
    "/** Constructs a LightBoard object having numRows rows and numCols columns.\n",
    "* Precondition: numRows > 0, numCols > 0\n",
    "* Postcondition: each light has a 40% probability of being set to on.\n",
    "*/\n",
    "\n",
    "public class LightBoard { \n",
    "    private boolean[][] lights; \n",
    "\n",
    "public LightBoard(int numRows, int numCols) \n",
    " {\n",
    "    lights = new boolean[numRows][numCols];\n",
    "\n",
    "    for (int r = 0; r < numRows; r++)\n",
    "    {\n",
    "        for (int c = 0; c < numCols; c++) {\n",
    "            if(Math.random() < 0.4) {\n",
    "                lights[r][c] = true;\n",
    "            }\n",
    "            else {\n",
    "                lights[r][c] = false;\n",
    "            }\n",
    "        }\n",
    "    }\n",
    "\n",
    " }\n",
    "\n",
    "\n",
    "/** Evaluates a light in row index row and column index col and returns a status\n",
    "* as described in part (b).\n",
    "* Precondition: row and col are valid indexes in lights.\n",
    "*/\n",
    "\n",
    "public boolean evaluateLight(int row, int col) {\n",
    "    int count = 0;\n",
    "    for (int r = 0; r > lights.length; r++) {\n",
    "        if (lights[r][col]) \n",
    "        {\n",
    "            count++;       \n",
    "        }\n",
    "    }\n",
    "\n",
    "    if (lights[row][col] && count % 2 == 0) {\n",
    "        return false;\n",
    "    }\n",
    "\n",
    "    if (!lights[row][col] && count % 3 == 0) {\n",
    "        return true;\n",
    "    }\n",
    "        return lights[row][col];\n",
    "\n",
    "}\n",
    "}\n",
    "\n",
    "LightBoard lightboard = new LightBoard(7,5);\n",
    "System.out.println(lightboard.evaluateLight(0,0));\n",
    "System.out.println(lightboard.evaluateLight(2,1));\n",
    "System.out.println(lightboard.evaluateLight(5,3));"
   ]
  }
 ],
 "metadata": {
  "kernelspec": {
   "display_name": "Java",
   "language": "java",
   "name": "java"
  },
  "language_info": {
   "codemirror_mode": "java",
   "file_extension": ".jshell",
   "mimetype": "text/x-java-source",
   "name": "Java",
   "pygments_lexer": "java",
   "version": "11.0.16+8-post-Ubuntu-0ubuntu120.04"
  },
  "orig_nbformat": 4
 },
 "nbformat": 4,
 "nbformat_minor": 2
}
