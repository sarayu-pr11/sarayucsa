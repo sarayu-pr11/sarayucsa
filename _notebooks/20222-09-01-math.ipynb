{
 "cells": [
  {
   "cell_type": "markdown",
   "metadata": {},
   "source": [
    "# Factors Function\n",
    "> This is my factors function using objects\n",
    "- toc: true\n",
    "- categories: [jupyter]"
   ]
  },
  {
   "cell_type": "code",
   "execution_count": 1,
   "metadata": {},
   "outputs": [
    {
     "name": "stdout",
     "output_type": "stream",
     "text": [
      "Input a Whole Number : \n"
     ]
    }
   ],
   "source": [
    "import java.util.Scanner;\n",
    "\n",
    "public class factors {\n",
    "    public static void main(String[] args) {\n",
    "        Scanner fact = new Scanner(System.in);\n",
    "        int number;\n",
    "    while(true)    {\n",
    "        System.out.print(\"Input a Whole Number : \" + \"\\n\");\n",
    "        number = fact.nextInt();\n",
    "        System.out.print(\"Your factors are: \" + \"\\n\");\n",
    "\n",
    "    for (int i = 1; i <= number; ++i ) {\n",
    "        if (number % i == 0) {\n",
    "            System.out.print(i + \" \" + \"\\n\");\n",
    "        }\n",
    "    }\n",
    "    }\n",
    "}\n",
    "}\n",
    "\n",
    "factors.main(null)"
   ]
  }
 ],
 "metadata": {
  "kernelspec": {
   "display_name": "Java",
   "language": "java",
   "name": "java"
  },
  "language_info": {
   "codemirror_mode": "java",
   "file_extension": ".jshell",
   "mimetype": "text/x-java-source",
   "name": "java",
   "pygments_lexer": "java",
   "version": "11.0.16+8-post-Ubuntu-0ubuntu120.04"
  },
  "orig_nbformat": 4,
  "vscode": {
   "interpreter": {
    "hash": "916dbcbb3f70747c44a77c7bcd40155683ae19c65e1c03b4aa3499c5328201f1"
   }
  }
 },
 "nbformat": 4,
 "nbformat_minor": 2
}
