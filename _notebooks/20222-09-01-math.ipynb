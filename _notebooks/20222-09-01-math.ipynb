{
 "cells": [
  {
   "cell_type": "code",
   "execution_count": 1,
   "metadata": {
    "vscode": {
     "languageId": "java"
    }
   },
   "outputs": [
    {
     "name": "stdout",
     "output_type": "stream",
     "text": [
      "Input a Whole Number : \n",
      "Your factors are: \n",
      "1 \n",
      "2 \n",
      "43 \n",
      "86 \n",
      "Input a Whole Number : \n"
     ]
    }
   ],
   "source": [
    "public class factors {\n",
    "    public static void main(String[] args) {\n",
    "        Scanner scan = new Scanner(System.in);\n",
    "        int number;\n",
    "    while(true)    {\n",
    "        System.out.print(\"Input a Whole Number : \" + \"\\n\");\n",
    "        number = scan.nextInt();\n",
    "        System.out.print(\"Your factors are: \" + \"\\n\");\n",
    "\n",
    "    for (int i = 1; i <= number; ++i ) {\n",
    "        if (number % i == 0) {\n",
    "            System.out.print(i + \" \" + \"\\n\");\n",
    "        }\n",
    "    }\n",
    "    }\n",
    "}\n",
    "}\n",
    "\n",
    "factors.main(null)"
   ]
  }
 ],
 "metadata": {
  "kernelspec": {
   "display_name": "Java",
   "language": "java",
   "name": "java"
  },
  "language_info": {
   "codemirror_mode": "java",
   "file_extension": ".jshell",
   "mimetype": "text/x-java-source",
   "name": "Java",
   "pygments_lexer": "java",
   "version": "11.0.16+8-post-Ubuntu-0ubuntu120.04"
  },
  "orig_nbformat": 4
 },
 "nbformat": 4,
 "nbformat_minor": 2
}
