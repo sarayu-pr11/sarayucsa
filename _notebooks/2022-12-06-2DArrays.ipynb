{
 "cells": [
  {
   "cell_type": "markdown",
   "metadata": {},
   "source": [
    "# 2D Array\n",
    "- toc: true\n",
    "- comments: false\n",
    "- category: [jupyter]"
   ]
  },
  {
   "attachments": {},
   "cell_type": "markdown",
   "metadata": {},
   "source": [
    "- an array of arrays: multidimensional array\n",
    "## Vocab\n",
    "- nested for loops\n",
    "    - A for loop inside of another for loop. These are used to loop through all the elements in a 2d array. One loop can work through the rows and the other the columns.\n",
    "- Out Of Bounds Error\n",
    "    - happens when a loop goes beyond the last valid index in an array.\n",
    "## Creating a 2D Array\n",
    "- first initialize"
   ]
  },
  {
   "cell_type": "code",
   "execution_count": null,
   "metadata": {},
   "outputs": [],
   "source": [
    "int[][] values;\n",
    "String[][] names;\n",
    "char[][] letters;\n",
    "float[][] floats;\n",
    "double[][] doubles;\n",
    "Object[][] objects;"
   ]
  },
  {
   "cell_type": "markdown",
   "metadata": {},
   "source": [
    "- then you must give it a value\n",
    "    - Method 1: you can initialize by giving values\n",
    "    - Method 2: you can initialize it by giving it a size\n",
    "\n",
    "## Iteration\n",
    "- you could use a for loop then another nested loop"
   ]
  },
  {
   "cell_type": "code",
   "execution_count": 1,
   "metadata": {},
   "outputs": [
    {
     "name": "stdout",
     "output_type": "stream",
     "text": [
      "1 2 3 4 5 6 7 8 9 0 - =  \n",
      "q w e r t y u i o p [ ] \\  \n",
      "a s d f g h j k l  \n",
      "z x c v b n m , . /  \n"
     ]
    }
   ],
   "source": [
    "String[][] alphabet = {{\"1\", \"2\", \"3\", \"4\", \"5\", \"6\", \"7\", \"8\", \"9\", \"0\", \"-\", \"=\"},\n",
    "{\"q\", \"w\", \"e\", \"r\", \"t\", \"y\", \"u\", \"i\", \"o\", \"p\", \"[\", \"]\", \"\\\\\"},\n",
    "{\"a\", \"s\", \"d\", \"f\", \"g\", \"h\", \"j\", \"k\", \"l\"},\n",
    "{\"z\", \"x\", \"c\", \"v\", \"b\", \"n\", \"m\", \",\", \".\", \"/\"}};\n",
    "for(int i = 0;i<alphabet.length;i++){\n",
    "    for(int j = 0; j < alphabet[i].length;j++){ //nested for loops\n",
    "        System.out.print(alphabet[i][j]+\" \");\n",
    "    }\n",
    "    System.out.println(\" \");\n",
    "}"
   ]
  },
  {
   "cell_type": "markdown",
   "metadata": {},
   "source": [
    "## Accessing and Changing Elements of 2D Arrays\n",
    "- you can change element or access elements in 2D arrays with indexes\n",
    "- use [1][2]"
   ]
  },
  {
   "cell_type": "markdown",
   "metadata": {},
   "source": [
    "## Homework\n",
    "- Create a class for 2D array learning.\n",
    "- Create a method too initialize a 2D array with arbitrary values\n",
    "- Create a method to reverse the 2D array and print out the values\n",
    "- Create a method that asks for the input of a position and it returns the corresponding value\n",
    "- Create a method that multiplies each value in a row and then adds all the products together\n",
    "- Create a new object to test out each method in the main function"
   ]
  },
  {
   "cell_type": "code",
   "execution_count": 6,
   "metadata": {},
   "outputs": [
    {
     "name": "stdout",
     "output_type": "stream",
     "text": [
      "8 12 9 12 \n",
      "4 14 6 4 \n",
      "0 16 15 4 \n",
      "9 0 15 4 \n",
      "\n",
      "\n",
      "Values are Backwards\n",
      "4 15 0 9  \n",
      "4 15 16 0  \n",
      "4 6 14 4  \n",
      "12 9 12 8  \n",
      "Row Index?: 1\n",
      "Column Index?: 2\n",
      "Result: 6\n",
      "Sum: 11712\n"
     ]
    }
   ],
   "source": [
    "import java.util.Scanner;\n",
    "\n",
    "public class Arrays{\n",
    "    int[][] values;\n",
    "    public Arrays(){\n",
    "        int[][] newArray = new int[4][4];;\n",
    "        for (int i = 0; i < newArray.length; i++){\n",
    "            for (int j = 0; j < newArray[i].length; j++){\n",
    "                newArray[i][j] = (j+1) * (int) (Math.random()*10);\n",
    "            }\n",
    "        }\n",
    "\n",
    "        this.values = newArray;\n",
    "    }\n",
    "\n",
    "    public void printArray(){\n",
    "        for(int i = 0; i < values.length; i++){\n",
    "            for(int j = 0; j < values[i].length; j++){\n",
    "                System.out.print(values[i][j] + \" \");\n",
    "            }\n",
    "\n",
    "            System.out.println();\n",
    "\n",
    "        }\n",
    "    }\n",
    "\n",
    "    public void reverse(){\n",
    "        System.out.println(\"\\n\\nValues are Backwards\");\n",
    "        for(int i = values.length-1;i>=0;i--){\n",
    "            for(int j = values[i].length-1; j >= 0;j--){ \n",
    "                System.out.print(values[i][j] + \" \");\n",
    "            }\n",
    "            System.out.println(\" \");\n",
    "        }\n",
    "    }\n",
    "\n",
    "    public void index(){\n",
    "        Scanner scanner = new Scanner(System.in);\n",
    "\n",
    "        System.out.print(\"Row Index?: \");\n",
    "        int rowIndex = scanner.nextInt();\n",
    "        System.out.println(rowIndex);\n",
    "\n",
    "        System.out.print(\"Column Index?: \");\n",
    "        int columnIndex = scanner.nextInt();\n",
    "        System.out.println(columnIndex);\n",
    "\n",
    "        System.out.print(\"Result: \"); \n",
    "        System.out.println(values[rowIndex][columnIndex]);\n",
    "    }\n",
    "\n",
    "    public void multiplyThenSum(){\n",
    "        int sum = 0;\n",
    "\n",
    "        for(int i = 0; i < values.length; i++){\n",
    "            int multiply = 1;\n",
    "\n",
    "            for(int j = 0; j < values[i].length; j++){\n",
    "                multiply *= values[i][j];\n",
    "            }\n",
    "\n",
    "            sum += multiply;\n",
    "        }\n",
    "\n",
    "        System.out.print(\"Sum: \");\n",
    "        System.out.println(sum);\n",
    "    }\n",
    "\n",
    "    public static void main(String[] args){\n",
    "        Arrays array = new Arrays();\n",
    "        array.printArray();\n",
    "        array.reverse();\n",
    "        array.index();\n",
    "        array.multiplyThenSum();\n",
    "\n",
    "    }\n",
    "}\n",
    "\n",
    "Arrays.main(null);"
   ]
  }
 ],
 "metadata": {
  "kernelspec": {
   "display_name": "Java",
   "language": "java",
   "name": "java"
  },
  "language_info": {
   "codemirror_mode": "java",
   "file_extension": ".jshell",
   "mimetype": "text/x-java-source",
   "name": "java",
   "pygments_lexer": "java",
   "version": "11.0.16+8-post-Ubuntu-0ubuntu120.04"
  },
  "orig_nbformat": 4
 },
 "nbformat": 4,
 "nbformat_minor": 2
}
