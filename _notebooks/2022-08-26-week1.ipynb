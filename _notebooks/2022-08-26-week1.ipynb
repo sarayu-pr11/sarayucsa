{
 "cells": [
  {
   "cell_type": "markdown",
   "metadata": {},
   "source": [
    "# Primitives\n",
    ">Demo of primitives as well as Decimal to Binary Converter\n",
    "- toc: true\n",
    "- categories: [fastpages, jupyter]"
   ]
  },
  {
   "cell_type": "code",
   "execution_count": 6,
   "metadata": {},
   "outputs": [
    {
     "name": "stdout",
     "output_type": "stream",
     "text": [
      "Int: 7\n",
      "Double: 5.4\n",
      "Boolean: false\n",
      "Wrapper String: Hello!\n",
      "Wrapper String Formal: Hello, world\n"
     ]
    }
   ],
   "source": [
    "public class primitives {\n",
    "    public static void main(String[] args) {\n",
    "        int i = 7;\n",
    "        double d = 5.4;\n",
    "        boolean b = false;\n",
    "\n",
    "        String aString = \"Hello!\";\n",
    "        String astringFormal = new String(\"Hello, world\");\n",
    "\n",
    "        System.out.println(\"Int: \" + i);\n",
    "        System.out.println(\"Double: \" + d);\n",
    "        System.out.println(\"Boolean: \" + b);\n",
    "        System.out.println(\"Wrapper String: \" + aString);\n",
    "        System.out.println(\"Wrapper String Formal: \" + astringFormal);\n",
    "\n",
    "    }\n",
    "    }\n",
    "    primitives.main(null)"
   ]
  },
  {
   "cell_type": "code",
   "execution_count": 1,
   "metadata": {},
   "outputs": [
    {
     "name": "stdout",
     "output_type": "stream",
     "text": [
      "1: Convert to Binary\n",
      "2: Quit\n",
      "Your choice?\n",
      "Input a Decimal Number : Number is: 75Binary number is: 1001011\n",
      "1: Convert to Binary\n",
      "2: Quit\n",
      "Your choice?\n"
     ]
    }
   ],
   "source": [
    "import java.util.Scanner;\n",
    "public class Conversion {\n",
    "      public static void main(String args[])\n",
    "    {\n",
    "        int dec_num, quot, i=1, j, choice;\n",
    "        int bin_num[] = new int[100];\n",
    "        Scanner scan = new Scanner(System.in);\n",
    "\t\t\n",
    "        while(true) {\n",
    "            System.out.println(\"1: Convert to Binary\");\n",
    "            System.out.println(\"2: Quit\");\n",
    "            System.out.println(\"Your choice?\");\n",
    "            choice = scan.nextInt();\n",
    "\n",
    "\n",
    "            switch (choice) {\n",
    "                case 1:\n",
    "                System.out.print(\"Input a Decimal Number : \");\n",
    "                dec_num = scan.nextInt();\n",
    "                System.out.print(\"Number is: \" + dec_num);\n",
    "                \n",
    "                quot = dec_num;\n",
    "                \n",
    "                while(quot != 0)\n",
    "                {\n",
    "                    bin_num[i++] = quot%2;\n",
    "                    quot = quot/2;\n",
    "                }\n",
    "                \n",
    "                System.out.print(\"Binary number is: \");\n",
    "                for(j=i-1; j>0; j--)\n",
    "                {\n",
    "                    System.out.print(bin_num[j]);\n",
    "                }\n",
    "                System.out.print(\"\\n\");\n",
    "                break;\n",
    "\n",
    "                case 2:\n",
    "                System.exit(0);\n",
    "            }\n",
    "        }\n",
    "       \n",
    "    }\n",
    "}\n",
    "\n",
    "Conversion.main(null)"
   ]
  }
 ],
 "metadata": {
  "kernelspec": {
   "display_name": "Java",
   "language": "java",
   "name": "java"
  },
  "language_info": {
   "codemirror_mode": "java",
   "file_extension": ".jshell",
   "mimetype": "text/x-java-source",
   "name": "java",
   "pygments_lexer": "java",
   "version": "11.0.16+8-post-Ubuntu-0ubuntu120.04"
  },
  "orig_nbformat": 4
 },
 "nbformat": 4,
 "nbformat_minor": 2
}
