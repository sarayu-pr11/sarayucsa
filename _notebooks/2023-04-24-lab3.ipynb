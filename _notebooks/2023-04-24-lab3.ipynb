{
 "cells": [
  {
   "attachments": {},
   "cell_type": "markdown",
   "metadata": {},
   "source": [
    "# Lab #2 - Codelingo\n",
    "> Recursion, Sorting, and ArrayList\n",
    "- toc: true\n",
    "- comments: false\n",
    "- categories: [jupyter]"
   ]
  },
  {
   "attachments": {},
   "cell_type": "markdown",
   "metadata": {},
   "source": [
    "## Recursion Hack"
   ]
  },
  {
   "cell_type": "code",
   "execution_count": 1,
   "metadata": {
    "vscode": {
     "languageId": "java"
    }
   },
   "outputs": [
    {
     "name": "stdout",
     "output_type": "stream",
     "text": [
      "**********\n",
      "*********\n",
      "********\n",
      "*******\n",
      "******\n",
      "*****\n",
      "****\n",
      "***\n",
      "**\n",
      "*\n"
     ]
    }
   ],
   "source": [
    "public void drawLine(int n) {\n",
    "    if (n == 0) {\n",
    "        return;\n",
    "    }\n",
    "    for (int i = 1; i <= n; i++) {\n",
    "        System.out.print(\"*\");\n",
    "    }\n",
    "    System.out.println();\n",
    "    drawLine(n - 1);\n",
    "}\n",
    "\n",
    "drawLine(10);\n"
   ]
  },
  {
   "attachments": {},
   "cell_type": "markdown",
   "metadata": {},
   "source": [
    "## Sorting Hack"
   ]
  },
  {
   "cell_type": "code",
   "execution_count": 2,
   "metadata": {
    "vscode": {
     "languageId": "java"
    }
   },
   "outputs": [
    {
     "name": "stdout",
     "output_type": "stream",
     "text": [
      "Japan - 377\n",
      "India - 3287\n",
      "China - 9596\n",
      "USA - 9834\n",
      "Russia - 17098\n"
     ]
    }
   ],
   "source": [
    "import java.util.ArrayList;\n",
    "import java.util.Comparator;\n",
    "\n",
    "public class Country {\n",
    "    private String name;\n",
    "    private int size;\n",
    "    \n",
    "    public Country(String name, int size) {\n",
    "        this.name = name;\n",
    "        this.size = size;\n",
    "    }\n",
    "    \n",
    "    public int getSize() {\n",
    "        return size;\n",
    "    }\n",
    "    \n",
    "    public String getName() {\n",
    "        return name;\n",
    "    }\n",
    "    \n",
    "    public static void selectionSort(ArrayList<Country> countries, Comparator<Country> comparator) {\n",
    "        for (int i = 0; i < countries.size() - 1; i++) {\n",
    "            int maxIndex = i;\n",
    "            for (int j = i + 1; j < countries.size(); j++) {\n",
    "                if (comparator.compare(countries.get(j), countries.get(maxIndex)) > 0) {\n",
    "                    maxIndex = j;\n",
    "                }\n",
    "            }\n",
    "            if (maxIndex != i) {\n",
    "                Country temp = countries.get(i);\n",
    "                countries.set(i, countries.get(maxIndex));\n",
    "                countries.set(maxIndex, temp);\n",
    "            }\n",
    "        }\n",
    "    }\n",
    "    \n",
    "    public static void main(String[] args) {\n",
    "        ArrayList<Country> countries = new ArrayList<>();\n",
    "        countries.add(new Country(\"USA\", 9834));\n",
    "        countries.add(new Country(\"China\", 9596));\n",
    "        countries.add(new Country(\"Japan\", 377));\n",
    "        countries.add(new Country(\"India\", 3287));\n",
    "        countries.add(new Country(\"Russia\", 17098));\n",
    "        \n",
    "        // Sort the countries in decreasing order based on their size\n",
    "        selectionSort(countries, new Comparator<Country>() {\n",
    "            @Override\n",
    "            public int compare(Country c1, Country c2) {\n",
    "                return Integer.compare(c2.getSize(), c1.getSize());\n",
    "            }\n",
    "        });\n",
    "        \n",
    "        // Print the sorted list of countries\n",
    "        for (Country country : countries) {\n",
    "            System.out.println(country.getName() + \" - \" + country.getSize());\n",
    "        }\n",
    "    }\n",
    "}\n",
    "\n",
    "Country.main(null)"
   ]
  },
  {
   "attachments": {},
   "cell_type": "markdown",
   "metadata": {},
   "source": [
    "## ArrayList Hacks\n"
   ]
  },
  {
   "attachments": {},
   "cell_type": "markdown",
   "metadata": {},
   "source": [
    "### Test if two arraylists contain the same elements in reverse order"
   ]
  },
  {
   "cell_type": "code",
   "execution_count": 5,
   "metadata": {
    "vscode": {
     "languageId": "java"
    }
   },
   "outputs": [
    {
     "name": "stdout",
     "output_type": "stream",
     "text": [
      "Do the arraylists contains the same elements in reverse order? true\n"
     ]
    }
   ],
   "source": [
    "import java.util.ArrayList;\n",
    "import java.util.Collections;\n",
    "\n",
    "public class ArrayListReverseOrderTest {\n",
    "\n",
    "    public static void main(String[] args) {\n",
    "        ArrayList<Integer> list1 = new ArrayList<>();\n",
    "        list1.add(1);\n",
    "        list1.add(2);\n",
    "        list1.add(3);\n",
    "        \n",
    "        ArrayList<Integer> list2 = new ArrayList<>();\n",
    "        list2.add(3);\n",
    "        list2.add(2);\n",
    "        list2.add(1);\n",
    "        \n",
    "        boolean isSame = isArrayListsEqualInReverseOrder(list1, list2);\n",
    "        \n",
    "        System.out.println(\"Do the arraylists contains the same elements in reverse order? \" + isSame);\n",
    "    }\n",
    "    \n",
    "    public static <T> boolean isArrayListsEqualInReverseOrder(ArrayList<T> list1, ArrayList<T> list2) {\n",
    "        if (list1.size() != list2.size()) {\n",
    "            return false;\n",
    "        }\n",
    "        \n",
    "        ArrayList<T> reverseList1 = new ArrayList<>(list1);\n",
    "        Collections.reverse(reverseList1);\n",
    "        \n",
    "        for (int i = 0; i < list2.size(); i++) {\n",
    "            if (!list2.get(i).equals(reverseList1.get(i))) {\n",
    "                return false;\n",
    "            }\n",
    "        }\n",
    "        \n",
    "        return true;\n",
    "    }\n",
    "}\n",
    "\n",
    "ArrayListReverseOrderTest.main(null)"
   ]
  },
  {
   "attachments": {},
   "cell_type": "markdown",
   "metadata": {},
   "source": [
    "### OVerwrite all the elements in an arraylist with the alphabet"
   ]
  },
  {
   "cell_type": "code",
   "execution_count": 6,
   "metadata": {
    "vscode": {
     "languageId": "java"
    }
   },
   "outputs": [
    {
     "name": "stdout",
     "output_type": "stream",
     "text": [
      "[A, B, C, D, E, F, G, H, I, J, K, L, M, N, O, P, Q, R, S, T, U, V, W, X, Y, Z]\n"
     ]
    }
   ],
   "source": [
    "import java.util.ArrayList;\n",
    "\n",
    "public class ArrayListOverwriteTest {\n",
    "\n",
    "    public static void main(String[] args) {\n",
    "        ArrayList<Character> list = new ArrayList<>();\n",
    "        \n",
    "        // Add 26 elements to the list\n",
    "        for (int i = 0; i < 26; i++) {\n",
    "            list.add(null);\n",
    "        }\n",
    "        \n",
    "        // Overwrite the elements with the alphabet\n",
    "        for (int i = 0; i < 26; i++) {\n",
    "            char c = (char) (i + 'A');\n",
    "            list.set(i, c);\n",
    "        }\n",
    "        \n",
    "        // Print the list\n",
    "        System.out.println(list);\n",
    "    }\n",
    "}\n",
    "\n",
    "ArrayListOverwriteTest.main(null)"
   ]
  }
 ],
 "metadata": {
  "kernelspec": {
   "display_name": "Java",
   "language": "java",
   "name": "java"
  },
  "language_info": {
   "codemirror_mode": "java",
   "file_extension": ".jshell",
   "mimetype": "text/x-java-source",
   "name": "Java",
   "pygments_lexer": "java",
   "version": "11.0.17+8-post-Ubuntu-1ubuntu222.04"
  },
  "orig_nbformat": 4
 },
 "nbformat": 4,
 "nbformat_minor": 2
}
