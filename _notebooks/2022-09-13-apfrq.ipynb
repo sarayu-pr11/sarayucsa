{
 "cells": [
  {
   "cell_type": "markdown",
   "metadata": {},
   "source": [
    "# Free Response Question No. 1\n",
    "> Methods and Control Structures\n",
    "- toc: true\n",
    "- categories: [jupyter]\n",
    "- comments: true"
   ]
  },
  {
   "cell_type": "markdown",
   "metadata": {},
   "source": [
    "## 2019 FRQs\n",
    "### 1) The APCalender class contains methods used to calculate information about a calender. You will write two methods of the class."
   ]
  },
  {
   "cell_type": "markdown",
   "metadata": {},
   "source": [
    "a) Write the static method numberOfLeapYears, which returns the number of leap years between year1 and year2, inclusive. In order to calculate this value, a helper method is provided for you. "
   ]
  },
  {
   "cell_type": "code",
   "execution_count": null,
   "metadata": {},
   "outputs": [],
   "source": [
    "pubic static int numberOfLeapYear (int year1, int year2) {\n",
    "    int count = 0;\n",
    "    for (int y = year1; y <= year2; y++) {\n",
    "        if (isLeapYear (y)) (\n",
    "            count ++;\n",
    "        )\n",
    "    }\n",
    "\n",
    "    return count;\n",
    "}"
   ]
  },
  {
   "cell_type": "code",
   "execution_count": null,
   "metadata": {},
   "outputs": [],
   "source": [
    "public static int daysOfWeek (int month, int day, int year) {\n",
    "    int startDay = firstDayOfYear(year);\n",
    "    int nthDay = dayOfYear(month, day, year);\n",
    "    int returnDay = (startDay + nthDay - 1) % 7;\n",
    "    return returnDay;\n",
    "}"
   ]
  }
 ],
 "metadata": {
  "kernelspec": {
   "display_name": "Java",
   "language": "java",
   "name": "java"
  },
  "language_info": {
   "codemirror_mode": "java",
   "file_extension": ".jshell",
   "mimetype": "text/x-java-source",
   "name": "java",
   "pygments_lexer": "java",
   "version": "11.0.16+8-post-Ubuntu-0ubuntu120.04"
  },
  "orig_nbformat": 4
 },
 "nbformat": 4,
 "nbformat_minor": 2
}
